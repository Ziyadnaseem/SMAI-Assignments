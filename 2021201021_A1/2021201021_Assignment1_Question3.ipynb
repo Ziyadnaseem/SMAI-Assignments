{
  "cells": [
    {
      "cell_type": "markdown",
      "metadata": {
        "id": "ip1ty6rETwjj"
      },
      "source": [
        "## Spam Email Classifier with KNN using TF-IDF scores"
      ],
      "id": "ip1ty6rETwjj"
    },
    {
      "cell_type": "markdown",
      "metadata": {
        "id": "mWjfTLf_Twjm"
      },
      "source": [
        "1.   Assignment must be implemented in Python 3 only.\n",
        "2.   You are allowed to use libraries for data preprocessing (numpy, pandas, nltk etc) and for evaluation metrics, data visualization (matplotlib etc.).\n",
        "3.   You will be evaluated not just on the overall performance of the model and also on the experimentation with hyper parameters, data prepossessing techniques etc.\n",
        "4.   The report file must be a well documented jupyter notebook, explaining the experiments you have performed, evaluation metrics and corresponding code. The code must run and be able to reproduce the accuracies, figures/graphs etc.\n",
        "5.   For all the questions, you must create a train-validation data split and test the hyperparameter tuning on the validation set. Your jupyter notebook must reflect the same.\n",
        "6.   Strict plagiarism checking will be done. An F will be awarded for plagiarism."
      ],
      "id": "mWjfTLf_Twjm"
    },
    {
      "cell_type": "markdown",
      "metadata": {
        "id": "zGmzpGovTwjn"
      },
      "source": [
        "**Task: Given an email, classify it as spam or ham**\n",
        "\n",
        "Given input text file (\"emails.txt\") containing 5572 email messages, with each row having its corresponding label (spam/ham) attached to it.\n",
        "\n",
        "This task also requires basic pre-processing of text (like removing stopwords, stemming/lemmatizing, replacing email_address with 'email-tag', etc..).\n",
        "\n",
        "You are required to find the tf-idf scores for the given data and use them to perform KNN using Cosine Similarity."
      ],
      "id": "zGmzpGovTwjn"
    },
    {
      "cell_type": "markdown",
      "metadata": {
        "id": "-Q_D58GCTwjo"
      },
      "source": [
        "### Import necessary libraries"
      ],
      "id": "-Q_D58GCTwjo"
    },
    {
      "cell_type": "code",
      "execution_count": null,
      "metadata": {
        "colab": {
          "base_uri": "https://localhost:8080/"
        },
        "id": "it2o9agqTwjo",
        "outputId": "049d7792-9dad-40e7-e0e3-153428899b7c"
      },
      "outputs": [
        {
          "output_type": "stream",
          "name": "stdout",
          "text": [
            "[nltk_data] Downloading package punkt to /root/nltk_data...\n",
            "[nltk_data]   Package punkt is already up-to-date!\n",
            "[nltk_data] Downloading package stopwords to /root/nltk_data...\n",
            "[nltk_data]   Package stopwords is already up-to-date!\n",
            "[nltk_data] Downloading package wordnet to /root/nltk_data...\n",
            "[nltk_data]   Package wordnet is already up-to-date!\n"
          ]
        }
      ],
      "source": [
        "import numpy as np\n",
        "import pandas as pd\n",
        "import nltk\n",
        "import matplotlib as plt\n",
        "from nltk.corpus import stopwords \n",
        "from nltk.tokenize import word_tokenize \n",
        "from nltk.stem import WordNetLemmatizer\n",
        "import string\n",
        "from nltk.stem import PorterStemmer\n",
        "import math\n",
        "from numpy import dot\n",
        "from numpy.linalg import norm\n",
        "import matplotlib.pyplot as plt\n",
        "nltk.download('punkt')\n",
        "nltk.download('stopwords')\n",
        "nltk.download('wordnet')\n",
        "from sklearn.metrics import confusion_matrix"
      ],
      "id": "it2o9agqTwjo"
    },
    {
      "cell_type": "markdown",
      "metadata": {
        "id": "ylU8bmXoTwjp"
      },
      "source": [
        "### Load dataset"
      ],
      "id": "ylU8bmXoTwjp"
    },
    {
      "cell_type": "code",
      "execution_count": null,
      "metadata": {
        "colab": {
          "base_uri": "https://localhost:8080/",
          "height": 206
        },
        "id": "RDy2vLXGTwjq",
        "outputId": "fbb09070-86a9-4f0b-f9bf-dcfb5aadf978"
      },
      "outputs": [
        {
          "output_type": "execute_result",
          "data": {
            "text/html": [
              "\n",
              "  <div id=\"df-b8a71044-c900-4c68-beff-8870155a1f5d\">\n",
              "    <div class=\"colab-df-container\">\n",
              "      <div>\n",
              "<style scoped>\n",
              "    .dataframe tbody tr th:only-of-type {\n",
              "        vertical-align: middle;\n",
              "    }\n",
              "\n",
              "    .dataframe tbody tr th {\n",
              "        vertical-align: top;\n",
              "    }\n",
              "\n",
              "    .dataframe thead th {\n",
              "        text-align: right;\n",
              "    }\n",
              "</style>\n",
              "<table border=\"1\" class=\"dataframe\">\n",
              "  <thead>\n",
              "    <tr style=\"text-align: right;\">\n",
              "      <th></th>\n",
              "      <th>Label</th>\n",
              "      <th>Email</th>\n",
              "    </tr>\n",
              "  </thead>\n",
              "  <tbody>\n",
              "    <tr>\n",
              "      <th>0</th>\n",
              "      <td>ham</td>\n",
              "      <td>Go until jurong point, crazy.. Available only ...</td>\n",
              "    </tr>\n",
              "    <tr>\n",
              "      <th>1</th>\n",
              "      <td>ham</td>\n",
              "      <td>Ok lar... Joking wif u oni...</td>\n",
              "    </tr>\n",
              "    <tr>\n",
              "      <th>2</th>\n",
              "      <td>spam</td>\n",
              "      <td>Free entry in 2 a wkly comp to win FA Cup fina...</td>\n",
              "    </tr>\n",
              "    <tr>\n",
              "      <th>3</th>\n",
              "      <td>ham</td>\n",
              "      <td>U dun say so early hor... U c already then say...</td>\n",
              "    </tr>\n",
              "    <tr>\n",
              "      <th>4</th>\n",
              "      <td>ham</td>\n",
              "      <td>Nah I don't think he goes to usf, he lives aro...</td>\n",
              "    </tr>\n",
              "  </tbody>\n",
              "</table>\n",
              "</div>\n",
              "      <button class=\"colab-df-convert\" onclick=\"convertToInteractive('df-b8a71044-c900-4c68-beff-8870155a1f5d')\"\n",
              "              title=\"Convert this dataframe to an interactive table.\"\n",
              "              style=\"display:none;\">\n",
              "        \n",
              "  <svg xmlns=\"http://www.w3.org/2000/svg\" height=\"24px\"viewBox=\"0 0 24 24\"\n",
              "       width=\"24px\">\n",
              "    <path d=\"M0 0h24v24H0V0z\" fill=\"none\"/>\n",
              "    <path d=\"M18.56 5.44l.94 2.06.94-2.06 2.06-.94-2.06-.94-.94-2.06-.94 2.06-2.06.94zm-11 1L8.5 8.5l.94-2.06 2.06-.94-2.06-.94L8.5 2.5l-.94 2.06-2.06.94zm10 10l.94 2.06.94-2.06 2.06-.94-2.06-.94-.94-2.06-.94 2.06-2.06.94z\"/><path d=\"M17.41 7.96l-1.37-1.37c-.4-.4-.92-.59-1.43-.59-.52 0-1.04.2-1.43.59L10.3 9.45l-7.72 7.72c-.78.78-.78 2.05 0 2.83L4 21.41c.39.39.9.59 1.41.59.51 0 1.02-.2 1.41-.59l7.78-7.78 2.81-2.81c.8-.78.8-2.07 0-2.86zM5.41 20L4 18.59l7.72-7.72 1.47 1.35L5.41 20z\"/>\n",
              "  </svg>\n",
              "      </button>\n",
              "      \n",
              "  <style>\n",
              "    .colab-df-container {\n",
              "      display:flex;\n",
              "      flex-wrap:wrap;\n",
              "      gap: 12px;\n",
              "    }\n",
              "\n",
              "    .colab-df-convert {\n",
              "      background-color: #E8F0FE;\n",
              "      border: none;\n",
              "      border-radius: 50%;\n",
              "      cursor: pointer;\n",
              "      display: none;\n",
              "      fill: #1967D2;\n",
              "      height: 32px;\n",
              "      padding: 0 0 0 0;\n",
              "      width: 32px;\n",
              "    }\n",
              "\n",
              "    .colab-df-convert:hover {\n",
              "      background-color: #E2EBFA;\n",
              "      box-shadow: 0px 1px 2px rgba(60, 64, 67, 0.3), 0px 1px 3px 1px rgba(60, 64, 67, 0.15);\n",
              "      fill: #174EA6;\n",
              "    }\n",
              "\n",
              "    [theme=dark] .colab-df-convert {\n",
              "      background-color: #3B4455;\n",
              "      fill: #D2E3FC;\n",
              "    }\n",
              "\n",
              "    [theme=dark] .colab-df-convert:hover {\n",
              "      background-color: #434B5C;\n",
              "      box-shadow: 0px 1px 3px 1px rgba(0, 0, 0, 0.15);\n",
              "      filter: drop-shadow(0px 1px 2px rgba(0, 0, 0, 0.3));\n",
              "      fill: #FFFFFF;\n",
              "    }\n",
              "  </style>\n",
              "\n",
              "      <script>\n",
              "        const buttonEl =\n",
              "          document.querySelector('#df-b8a71044-c900-4c68-beff-8870155a1f5d button.colab-df-convert');\n",
              "        buttonEl.style.display =\n",
              "          google.colab.kernel.accessAllowed ? 'block' : 'none';\n",
              "\n",
              "        async function convertToInteractive(key) {\n",
              "          const element = document.querySelector('#df-b8a71044-c900-4c68-beff-8870155a1f5d');\n",
              "          const dataTable =\n",
              "            await google.colab.kernel.invokeFunction('convertToInteractive',\n",
              "                                                     [key], {});\n",
              "          if (!dataTable) return;\n",
              "\n",
              "          const docLinkHtml = 'Like what you see? Visit the ' +\n",
              "            '<a target=\"_blank\" href=https://colab.research.google.com/notebooks/data_table.ipynb>data table notebook</a>'\n",
              "            + ' to learn more about interactive tables.';\n",
              "          element.innerHTML = '';\n",
              "          dataTable['output_type'] = 'display_data';\n",
              "          await google.colab.output.renderOutput(dataTable, element);\n",
              "          const docLink = document.createElement('div');\n",
              "          docLink.innerHTML = docLinkHtml;\n",
              "          element.appendChild(docLink);\n",
              "        }\n",
              "      </script>\n",
              "    </div>\n",
              "  </div>\n",
              "  "
            ],
            "text/plain": [
              "  Label                                              Email\n",
              "0   ham  Go until jurong point, crazy.. Available only ...\n",
              "1   ham                      Ok lar... Joking wif u oni...\n",
              "2  spam  Free entry in 2 a wkly comp to win FA Cup fina...\n",
              "3   ham  U dun say so early hor... U c already then say...\n",
              "4   ham  Nah I don't think he goes to usf, he lives aro..."
            ]
          },
          "metadata": {},
          "execution_count": 2
        }
      ],
      "source": [
        "#with open('emails.txt') as f:\n",
        " #   emails = f.readlines()\n",
        "    \n",
        "dataset=pd.read_csv(\"emails.txt\",delimiter='\\t',header=None)\n",
        "dataset.columns=['Label','Email']"
      ],
      "id": "RDy2vLXGTwjq"
    },
    {
      "cell_type": "markdown",
      "metadata": {
        "id": "ahllV98LTwjr"
      },
      "source": [
        "### Preprocess data"
      ],
      "id": "ahllV98LTwjr"
    },
    {
      "cell_type": "code",
      "execution_count": null,
      "metadata": {
        "id": "ac1uUXD8Twjr"
      },
      "outputs": [],
      "source": [
        "lemma = WordNetLemmatizer()\n",
        "\n",
        "for index,row in dataset.iterrows():\n",
        "    x=row['Email']\n",
        "    x=x.lower()\n",
        "    x=\" \".join(x.split())\n",
        "    punctuations=string.punctuation\n",
        "    for punc in punctuations:\n",
        "        x=x.replace(punc,\"\")\n",
        "    x=word_tokenize(x)\n",
        "    \n",
        "    x=[lemma.lemmatize(i) for i in x]\n",
        "    x=[i for i in x if i.isnumeric()==False]\n",
        "        \n",
        "    filtered_words = [word for word in x if word not in stopwords.words('english')]\n",
        "    \n",
        "    ps=PorterStemmer()\n",
        "    words=list()\n",
        "    for w in filtered_words:\n",
        "        words.append(ps.stem(w))\n",
        "    row['Email']=words\n"
      ],
      "id": "ac1uUXD8Twjr"
    },
    {
      "cell_type": "markdown",
      "metadata": {
        "id": "-2CucsMPTwjs"
      },
      "source": [
        "### Split data"
      ],
      "id": "-2CucsMPTwjs"
    },
    {
      "cell_type": "code",
      "execution_count": null,
      "metadata": {
        "id": "hPvr2G1HTwjs",
        "colab": {
          "base_uri": "https://localhost:8080/"
        },
        "outputId": "e3a0a108-1e6f-493f-dba1-15998d95a613"
      },
      "outputs": [
        {
          "output_type": "execute_result",
          "data": {
            "text/plain": [
              "3380                                   [dear, umma, call]\n",
              "729            [exactli, anyway, far, jide, studi, visit]\n",
              "3337                           [u, go, back, urself, lor]\n",
              "2212    [gettin, bit, arti, collag, mo, well, tryin, n...\n",
              "3208                 [phone, ha, weirdest, auto, correct]\n",
              "                              ...                        \n",
              "3330            [sac, score, big, hundredh, set, batsman]\n",
              "70                    [wah, lucki, man, save, money, hee]\n",
              "132                      [dear, call, tmorrowpl, accomod]\n",
              "2014    [great, news, call, freefon, claim, guarante, ...\n",
              "1931                                     [carri, disturb]\n",
              "Name: Email, Length: 4179, dtype: object"
            ]
          },
          "metadata": {},
          "execution_count": 66
        }
      ],
      "source": [
        "from sklearn.model_selection import train_test_split\n",
        "\n",
        "x_df = dataset['Email']\n",
        "y_df = dataset['Label']\n",
        "x_train, x_test, y_train, y_test = train_test_split(x_df, y_df, test_size=0.25, random_state=50)\n"
      ],
      "id": "hPvr2G1HTwjs"
    },
    {
      "cell_type": "code",
      "execution_count": null,
      "metadata": {
        "id": "orOCe7HPTwjt"
      },
      "outputs": [],
      "source": [
        "#for training set\n",
        "\n",
        "#idf\n",
        "idfDict={}\n",
        "for row in x_train:\n",
        "    for i in set(row):\n",
        "        if i not in idfDict:\n",
        "            idfDict[i]=1\n",
        "        else:\n",
        "            idfDict[i]+=1\n",
        "n=len(idfDict)\n",
        "for i in idfDict:\n",
        "    idfDict[i]=math.log10(n/(1+float(idfDict[i])))\n",
        "\n",
        "#tf\n",
        "tfList=[]\n",
        "for row in x_train:\n",
        "    wordDict= dict.fromkeys(idfDict.keys(),0)\n",
        "    n=len(set(row))\n",
        "    for i in set(row):\n",
        "        if i in idfDict:\n",
        "            wordDict[i]+=1\n",
        "    for j in wordDict:\n",
        "            if(n>0):\n",
        "                wordDict[j]/=float(n)\n",
        "    tfList.append(wordDict)\n",
        "\n",
        "\n",
        "# tfidf\n",
        "newList=[]\n",
        "for row in tfList:\n",
        "    temp=[]\n",
        "    for i in row:\n",
        "        row[i]=row[i]*idfDict[i]\n",
        "        temp.append(row[i])\n",
        "    newList.append(np.array(temp))\n",
        "\n",
        "newList=np.array(newList)"
      ],
      "id": "orOCe7HPTwjt"
    },
    {
      "cell_type": "code",
      "execution_count": null,
      "metadata": {
        "id": "Tb4wBoOXTwjt"
      },
      "outputs": [],
      "source": [
        "#for test set\n",
        "\n",
        "tfList2=[]\n",
        "for row in x_test:\n",
        "    wordDict= dict.fromkeys(idfDict.keys(),0)\n",
        "    n=len(set(row))\n",
        "    for i in set(row):\n",
        "        if i in idfDict:\n",
        "            wordDict[i]+=1\n",
        "    for j in wordDict:\n",
        "        if(n>0):\n",
        "            wordDict[j]/=float(n)\n",
        "    tfList2.append(wordDict)\n",
        "\n",
        "newList2=[]\n",
        "# tfidf\n",
        "for row in tfList2:\n",
        "    temp=[]\n",
        "    for i in row:\n",
        "        row[i]=row[i]*idfDict[i]\n",
        "        temp.append(row[i])\n",
        "    newList2.append(np.array(temp))\n",
        "\n",
        "newList2=np.array(newList2)\n",
        "y_train=np.array(y_train)"
      ],
      "id": "Tb4wBoOXTwjt"
    },
    {
      "cell_type": "code",
      "execution_count": null,
      "metadata": {
        "id": "n-12LXzMTwju"
      },
      "outputs": [],
      "source": [
        "### Train your KNN model (reuse previously iplemented model built from scratch) and test on your data"
      ],
      "id": "n-12LXzMTwju"
    },
    {
      "cell_type": "code",
      "execution_count": null,
      "metadata": {
        "id": "NrC6rdimTwjv"
      },
      "outputs": [],
      "source": [
        "def cosine_dist(list1,list2):\n",
        "    return 1-(dot(list1,list2)/(norm(list1)*norm(list2)))\n",
        "    \n",
        "def euc_dist(list1, list2):\n",
        "    return norm(list1-list2)\n",
        "    \n",
        "def manhat_dist(list1,list2):\n",
        "    return np.abs(list1-list2).sum()\n",
        "    "
      ],
      "id": "NrC6rdimTwjv"
    },
    {
      "cell_type": "code",
      "source": [
        "def knn(newList,newList2,y_train,k,mode):\n",
        "\n",
        "    if mode==1: #cosine\n",
        "        res=[]\n",
        "        for row in newList2:\n",
        "            it=0\n",
        "            temp=[]\n",
        "            a=row\n",
        "            for r in newList:\n",
        "                b=r\n",
        "                cos_sim = cosine_dist(a,b)\n",
        "                temp.append((cos_sim,y_train[it]))\n",
        "                it=it+1\n",
        "            temp.sort()\n",
        "            temp=list(map(lambda x: x[1], temp))\n",
        "            res.append(temp[:k])\n",
        "        return res\n",
        "\n",
        "    elif mode==2: #euclid\n",
        "        res=[]\n",
        "        for row in newList2:\n",
        "            it=0\n",
        "            temp=[]\n",
        "            a=row\n",
        "            for r in newList:\n",
        "                b=r\n",
        "                val = euc_dist(a,b)\n",
        "                temp.append((val,y_train[it]))\n",
        "                it=it+1\n",
        "            temp.sort()\n",
        "            temp=list(map(lambda x: x[1], temp))\n",
        "            res.append(temp[:k])\n",
        "        return res\n",
        "    \n",
        "    else:  #manhattan\n",
        "        res=[]\n",
        "        for row in newList2:\n",
        "            it=0\n",
        "            temp=[]\n",
        "            a=row\n",
        "            for r in newList:\n",
        "                b=r\n",
        "                val = manhat_dist(a,b)\n",
        "                temp.append((val,y_train[it]))\n",
        "                it=it+1\n",
        "            temp.sort()\n",
        "            temp=list(map(lambda x: x[1], temp))\n",
        "            res.append(temp[:k])\n",
        "        return res"
      ],
      "metadata": {
        "id": "XMw8r0UUAGa_"
      },
      "id": "XMw8r0UUAGa_",
      "execution_count": null,
      "outputs": []
    },
    {
      "cell_type": "markdown",
      "metadata": {
        "id": "J_Rt7AeJTwju"
      },
      "source": [
        "***1. Experiment with different distance measures [Euclidean distance, Manhattan distance, Hamming Distance] and compare with the Cosine Similarity distance results.***"
      ],
      "id": "J_Rt7AeJTwju"
    },
    {
      "cell_type": "code",
      "source": [
        "#calculate prediction\n",
        "\n",
        "def calc_ypred(list):\n",
        "    y_pred=[]\n",
        "    for i in list:\n",
        "        spam=0\n",
        "        ham=0\n",
        "        for j in i:\n",
        "            if j=='spam':\n",
        "                spam=spam+1\n",
        "            else:\n",
        "                ham=ham+1\n",
        "        if ham>spam:\n",
        "            y_pred.append('ham')\n",
        "        else:\n",
        "            y_pred.append('spam')\n",
        "    return y_pred\n"
      ],
      "metadata": {
        "id": "ECRxuWDBNE4o"
      },
      "id": "ECRxuWDBNE4o",
      "execution_count": null,
      "outputs": []
    },
    {
      "cell_type": "code",
      "source": [
        "res1=knn(newList,newList2,y_train,5,1)\n",
        "res2=knn(newList,newList2,y_train,5,2)\n",
        "res3=knn(newList,newList2,y_train,5,3)\n",
        "\n",
        "res1=calc_ypred(res1)\n",
        "res2=calc_ypred(res2)\n",
        "res3=calc_ypred(res3)\n",
        "\n",
        "cos_conf=confusion_matrix(y_test, res1, labels=[\"ham\", \"spam\"])\n",
        "euc_conf=confusion_matrix(y_test, res2, labels=[\"ham\", \"spam\"])\n",
        "man_conf=confusion_matrix(y_test, res3, labels=[\"ham\", \"spam\"])\n",
        "\n",
        "tp1=cos_conf[0][0]\n",
        "fp1=cos_conf[0][1]\n",
        "fn1=cos_conf[1][0]\n",
        "tn1=cos_conf[1][1]\n",
        "tp2=euc_conf[0][0]\n",
        "fp2=euc_conf[0][1]\n",
        "fn2=euc_conf[1][0]\n",
        "tn2=euc_conf[1][1]\n",
        "tp3=man_conf[0][0]\n",
        "fp3=man_conf[0][1]\n",
        "fn3=man_conf[1][0]\n",
        "tn3=man_conf[1][1]\n",
        "\n",
        "acc1=(tp1+tn1)/(tp1+fp1+fn1+tn1)\n",
        "acc2=(tp2+tn2)/(tp2+fp2+fn2+tn2)\n",
        "acc3=(tp3+tn3)/(tp3+fp3+fn3+tn3)\n",
        "prec1=tp1/(tp1+fp1)\n",
        "prec2=tp2/(tp2+fp2)\n",
        "prec3=tp3/(tp3+fp3)\n",
        "rec1=tp1/(tp1+fn1)\n",
        "rec2=tp2/(tp2+fn2)\n",
        "rec3=tp3/(tp3+fn3)\n",
        "fsc1=(2*tp1/((2*tp1)+fp1+fn1))\n",
        "fsc2=(2*tp2/((2*tp2)+fp2+fn2))\n",
        "fsc3=(2*tp3/((2*tp3)+fp3+fn3))\n",
        "\n",
        "print(\"For default value of k=5\")\n",
        "print(\"\\nConfusion Matrix\")\n",
        "print(\"Cosine: \\n\",cos_conf)\n",
        "print(\"Euclid: \\n\",euc_conf)\n",
        "print(\"Manhattan: \\n\",man_conf)\n",
        "print(\"\\nAccuracy\")\n",
        "print(\"Cosine: \",acc1)\n",
        "print(\"Euclid: \",acc2)\n",
        "print(\"Manhattan: \",acc3)\n",
        "print(\"\\nPrecision\")\n",
        "print(\"Cosine: \",prec1)\n",
        "print(\"Euclid: \",prec2)\n",
        "print(\"Manhattan: \",prec3)\n",
        "print(\"\\nRecall\")\n",
        "print(\"Cosine: \",rec1)\n",
        "print(\"Euclid: \",rec2)\n",
        "print(\"Manhattan: \",rec3)\n",
        "print(\"\\nF1 Score\")\n",
        "print(\"Cosine: \",fsc1)\n",
        "print(\"Euclid: \",fsc2)\n",
        "print(\"Manhattan: \",fsc3)"
      ],
      "metadata": {
        "colab": {
          "base_uri": "https://localhost:8080/"
        },
        "id": "-yka6k1TE8pM",
        "outputId": "54ee1d1a-eee5-498b-9a0b-b86e643d23b2"
      },
      "id": "-yka6k1TE8pM",
      "execution_count": null,
      "outputs": [
        {
          "output_type": "stream",
          "name": "stderr",
          "text": [
            "/usr/local/lib/python3.7/dist-packages/ipykernel_launcher.py:2: RuntimeWarning: invalid value encountered in double_scalars\n",
            "  \n"
          ]
        },
        {
          "output_type": "stream",
          "name": "stdout",
          "text": [
            "For default value of k=5\n",
            "\n",
            "Confusion Matrix\n",
            "Cosine: \n",
            " [[1213    4]\n",
            " [  49  127]]\n",
            "Euclid: \n",
            " [[1215    2]\n",
            " [ 112   64]]\n",
            "Manhattan: \n",
            " [[1217    0]\n",
            " [ 121   55]]\n",
            "\n",
            "Accuracy\n",
            "Cosine:  0.9619526202440776\n",
            "Euclid:  0.91816223977028\n",
            "Manhattan:  0.9131371141421393\n",
            "\n",
            "Precision\n",
            "Cosine:  0.9967132292522597\n",
            "Euclid:  0.9983566146261298\n",
            "Manhattan:  1.0\n",
            "\n",
            "Recall\n",
            "Cosine:  0.9611727416798732\n",
            "Euclid:  0.9155990957045969\n",
            "Manhattan:  0.9095665171898356\n",
            "\n",
            "F1 Score\n",
            "Cosine:  0.9786204114562324\n",
            "Euclid:  0.9551886792452831\n",
            "Manhattan:  0.952641878669276\n"
          ]
        }
      ]
    },
    {
      "cell_type": "markdown",
      "metadata": {
        "id": "SldQg9PTTwjv"
      },
      "source": [
        "***2. Explain which distance measure works best and why? Explore the distance measures and weigh their pro and cons in different application settings.***"
      ],
      "id": "SldQg9PTTwjv"
    },
    {
      "cell_type": "markdown",
      "metadata": {
        "id": "UJ7IRz3_Twjv"
      },
      "source": [
        "According to the above obtained results, the cosine distance measure works the best as it has the highest accuracy, recall, and F1 score among the three.\n",
        "\n",
        "The reason why cosine distance measure worked best is because of 'curse of dimensionality'. Due to this, euclidean distance and manhattan distance is not good for higher dimensions. Cosine similarity is often used to counteract euclidean distance problem. Cosine similarity is advantageous because it does not give importance to magnitude of vectors, instead it values the orientation. \n",
        "\n",
        "\n",
        "**Cosine Similarity** : This metric is mainly used to find similarities between two data points. As the cosine distance between the data points increases, the cosine similarity decreases, and vice versa. Thus, points closer to each other are more similar than points that are far away from each other. Cosine similarity is given by Cos θ, and cosine distance is 1- Cos θ.\n",
        "\n",
        "Pros:\n",
        "\n",
        "-> It works well with both categorical and continuous datasets.\n",
        "\n",
        "-> It works better in collaborative filtering where even documents are far apart as it calculates the orientation, and not the distance.\n",
        "\n",
        "Cons:\n",
        "\n",
        "-> The disadvantage of cosine similarity is that it doesn't take magnitude of vectors into consideration. \n",
        "\n",
        "Application Area: It is used quite frequently when the data is represented by word counts.\n",
        "\n",
        "\n",
        "**Manhattan Distance**: It is calculated as the sum of the absolute differences between the two vectors. The Manhattan distance is related to the L1 vector norm and the sum absolute error and mean absolute error metric.\n",
        "\n",
        "Pros:\n",
        "\n",
        "-> It is easy to generalize into higher dimensions.\n",
        "\n",
        "-> It works fine when dataset has binary attributes.\n",
        "\n",
        "Cons:\n",
        "\n",
        "-> It is less intutive to work in higher dimensional data. \n",
        "\n",
        "-> It is likely to give a higher distance than euclidean since it does not take into account shortest path possible.\n",
        "\n",
        "Application Area: In chess, the distance between squares on the chessboard for rooks is measured in Manhattan distance.\n",
        "\n",
        "**Euclidean Distance**: The Euclidean distance between two points in Euclidean space is the length of a line segment between the two points.\n",
        "\n",
        "Pros:\n",
        "\n",
        "-> Easy to implement and test the results.\n",
        "\n",
        "\n",
        "Cons:\n",
        "\n",
        "-> It doesn't work well with higher dimensional data.\n",
        "\n",
        "Application Area: Applications involving interval data and analysis of health psychology."
      ],
      "id": "UJ7IRz3_Twjv"
    },
    {
      "cell_type": "markdown",
      "metadata": {
        "id": "XOgi-SaATwjv"
      },
      "source": [
        "***3. Explain why accuracy alone cannot be used to compare and why do we need f1 score***"
      ],
      "id": "XOgi-SaATwjv"
    },
    {
      "cell_type": "markdown",
      "source": [
        "Accuracy alone can be a measure when data is balanced. In cases where data is unevenly distributed, then accuracy might not be the best measure. Let's say for example, in a dataset containing emails, there are 95% hams and 5% spams. In such a case, if our model is a naive one that classifies the emails as 'ham' every time, we'll end up with 95% accuracy. Therefore, accuracy alone is not a good measure.\n",
        "\n",
        "Precision tells us what are the chances that our model has made a correct prediction when model predicts a positive value.\n",
        "Recall is the ratio of correctly predicted value when the actual was positive to total number of value predicted as positive.\n",
        "\n",
        "When precision increases, recall decreases, and vice versa. So, when we require high true positives, precision is preferred, as it does not consider false negative during calculation, whereas when we are concerened with false negative, recall should be preferred. Lastly, there can be cases where we need a balance between recall and precision. In such cases, we calculate F1 score to maintain the balance.\n"
      ],
      "metadata": {
        "id": "WpCHY0QSWU92"
      },
      "id": "WpCHY0QSWU92"
    },
    {
      "cell_type": "markdown",
      "metadata": {
        "id": "qeaoZj8jTwjv"
      },
      "source": [
        "***4. Choose different K values (k=1,3,5,7,11,17,23,28) and experiment. Plot a graph showing R2 score vs k.***"
      ],
      "id": "qeaoZj8jTwjv"
    },
    {
      "cell_type": "code",
      "source": [
        "def pred_calc(y_test,cur_pred,k):\n",
        "    x1=confusion_matrix(y_test, cur_pred, labels=[\"ham\", \"spam\"])\n",
        "    x1=np.array(x1)\n",
        "    tp=x1[0][0]\n",
        "    fp=x1[0][1]\n",
        "    fn=x1[1][0]\n",
        "    tn=x1[1][1]\n",
        "\n",
        "    return (2*tp/((2*tp)+fp+fn))\n"
      ],
      "metadata": {
        "id": "K9kYVzogkT4m"
      },
      "id": "K9kYVzogkT4m",
      "execution_count": null,
      "outputs": []
    },
    {
      "cell_type": "code",
      "execution_count": null,
      "metadata": {
        "id": "11d4nvhBTwjw",
        "colab": {
          "base_uri": "https://localhost:8080/",
          "height": 329
        },
        "outputId": "d4f30c92-8476-4b8e-fc90-de3777975de3"
      },
      "outputs": [
        {
          "output_type": "stream",
          "name": "stderr",
          "text": [
            "/usr/local/lib/python3.7/dist-packages/ipykernel_launcher.py:2: RuntimeWarning: invalid value encountered in double_scalars\n",
            "  \n"
          ]
        },
        {
          "output_type": "display_data",
          "data": {
            "image/png": "[encoded data removed]",
            "text/plain": [
              "<Figure size 432x288 with 1 Axes>"
            ]
          },
          "metadata": {
            "needs_background": "light"
          }
        }
      ],
      "source": [
        "#k_list.sort()\n",
        "k_list=[1,3,5,7,11,17,23,28]\n",
        "x=knn(newList,newList2,y_train,max(k_list),1)\n",
        "k_vs_f1=[]\n",
        "x=np.array(x)\n",
        "for k in k_list:\n",
        "    cur_pred=calc_ypred(x[:,:k])\n",
        "    f1=pred_calc(y_test,cur_pred,k)\n",
        "    k_vs_f1.append([k,f1])\n",
        "k_vs_f1=np.array(k_vs_f1)\n",
        "\n",
        "x0 = k_vs_f1[:,0]\n",
        "y0 = k_vs_f1[:,1]\n",
        "plt.plot(x0,y0)\n",
        "plt.xlabel('k')\n",
        "plt.ylabel('f1 score')\n",
        "plt.title('k vs f1 Score')\n",
        "plt.show()"
      ],
      "id": "11d4nvhBTwjw"
    },
    {
      "cell_type": "markdown",
      "metadata": {
        "id": "mOFI893-Twjw"
      },
      "source": [
        "### Train and test Sklearn's KNN classifier model on your data (use metric which gave best results on your experimentation with built-from-scratch model.)"
      ],
      "id": "mOFI893-Twjw"
    },
    {
      "cell_type": "code",
      "source": [
        "def calc_y_train(my_list):\n",
        "    new_list=[]\n",
        "    for i in my_list:\n",
        "        if i=='ham':\n",
        "            new_list.append(0)\n",
        "        else:\n",
        "            new_list.append(1)\n",
        "    return new_list\n"
      ],
      "metadata": {
        "id": "ZQEol1xH8QhA"
      },
      "id": "ZQEol1xH8QhA",
      "execution_count": 91,
      "outputs": []
    },
    {
      "cell_type": "code",
      "execution_count": 90,
      "metadata": {
        "id": "f_KG0nPzTwjw",
        "colab": {
          "base_uri": "https://localhost:8080/"
        },
        "outputId": "48fe5534-7ab8-4b57-c90a-cd5ea4f91a35"
      },
      "outputs": [
        {
          "output_type": "stream",
          "name": "stdout",
          "text": [
            "[0, 0, 0, 0, 0, 0, 0, 0, 0, 0, 0, 0, 0, 0, 0, 0, 1, 0, 0, 1, 0, 1, 0, 0, 0, 1, 0, 0, 0, 0, 0, 0, 0, 0, 0, 0, 0, 1, 0, 0, 0, 0, 0, 1, 0, 0, 0, 0, 0, 0, 0, 1, 0, 0, 0, 0, 0, 0, 0, 1, 0, 0, 0, 0, 0, 0, 0, 0, 0, 0, 0, 0, 0, 0, 0, 0, 0, 0, 0, 0, 0, 0, 1, 0, 0, 1, 0, 0, 0, 0, 0, 0, 0, 1, 0, 1, 0, 0, 0, 0, 0, 1, 0, 0, 0, 0, 0, 0, 0, 0, 0, 0, 0, 0, 0, 0, 0, 0, 0, 0, 0, 1, 0, 0, 0, 0, 0, 0, 0, 0, 0, 0, 0, 0, 0, 0, 0, 0, 0, 0, 0, 0, 1, 0, 0, 0, 0, 0, 0, 0, 0, 0, 0, 0, 0, 0, 0, 0, 0, 0, 0, 0, 0, 0, 0, 0, 0, 0, 0, 0, 0, 0, 0, 0, 0, 0, 0, 0, 0, 1, 0, 1, 0, 0, 1, 0, 0, 0, 0, 0, 0, 0, 0, 0, 0, 0, 0, 0, 0, 0, 0, 1, 0, 1, 0, 0, 0, 0, 0, 0, 0, 0, 0, 0, 0, 0, 0, 0, 0, 0, 0, 0, 0, 0, 0, 0, 0, 0, 0, 0, 0, 0, 0, 0, 0, 0, 0, 0, 0, 1, 0, 0, 1, 0, 0, 0, 0, 1, 0, 0, 0, 0, 0, 0, 0, 0, 0, 0, 0, 0, 0, 0, 0, 1, 0, 0, 0, 0, 1, 0, 0, 0, 0, 1, 0, 0, 0, 0, 1, 0, 1, 0, 0, 0, 0, 0, 0, 0, 0, 0, 0, 0, 0, 0, 0, 0, 1, 0, 0, 0, 0, 0, 0, 0, 0, 0, 1, 0, 0, 1, 0, 0, 0, 1, 1, 1, 0, 0, 0, 0, 0, 0, 0, 0, 0, 0, 0, 0, 0, 0, 0, 0, 0, 0, 0, 0, 0, 0, 0, 0, 0, 1, 0, 0, 0, 1, 0, 0, 0, 0, 0, 0, 0, 0, 0, 1, 0, 0, 0, 0, 0, 1, 1, 1, 1, 0, 0, 0, 0, 0, 0, 1, 0, 0, 0, 0, 0, 0, 0, 0, 0, 0, 0, 0, 0, 0, 0, 0, 0, 0, 0, 0, 0, 0, 0, 0, 0, 0, 0, 0, 0, 1, 0, 0, 0, 0, 0, 0, 1, 0, 0, 0, 0, 0, 0, 0, 0, 0, 0, 0, 1, 1, 0, 1, 0, 0, 0, 0, 0, 0, 0, 0, 0, 0, 0, 0, 1, 0, 0, 0, 0, 0, 1, 0, 0, 0, 0, 0, 0, 0, 0, 0, 1, 1, 0, 0, 0, 0, 0, 1, 0, 0, 0, 0, 0, 0, 0, 0, 0, 0, 0, 1, 1, 0, 0, 0, 0, 0, 0, 0, 0, 0, 0, 0, 1, 0, 0, 1, 0, 0, 0, 0, 0, 0, 1, 0, 1, 0, 0, 0, 1, 0, 0, 0, 0, 0, 0, 0, 0, 0, 0, 0, 0, 0, 0, 1, 0, 0, 0, 0, 0, 0, 0, 0, 0, 0, 0, 0, 0, 1, 0, 1, 0, 1, 0, 1, 0, 0, 0, 0, 0, 0, 1, 0, 0, 0, 0, 0, 0, 0, 1, 0, 0, 0, 0, 0, 0, 0, 0, 0, 0, 0, 0, 0, 0, 0, 0, 0, 0, 0, 0, 0, 0, 0, 0, 0, 0, 1, 0, 1, 0, 0, 0, 0, 0, 0, 0, 0, 0, 0, 0, 1, 0, 0, 0, 0, 0, 0, 0, 0, 0, 0, 0, 0, 0, 0, 0, 0, 0, 0, 0, 0, 0, 0, 0, 0, 0, 0, 0, 0, 0, 0, 0, 1, 0, 0, 0, 0, 0, 0, 0, 0, 0, 0, 0, 0, 0, 0, 0, 0, 0, 0, 0, 0, 1, 1, 1, 1, 0, 0, 0, 0, 0, 0, 0, 0, 0, 0, 0, 0, 0, 0, 0, 0, 0, 0, 0, 0, 0, 0, 0, 0, 0, 0, 0, 0, 0, 0, 0, 0, 0, 0, 0, 0, 0, 0, 0, 1, 1, 0, 0, 0, 0, 0, 0, 0, 1, 0, 0, 0, 1, 0, 0, 0, 0, 0, 0, 0, 0, 0, 0, 0, 0, 1, 0, 0, 0, 0, 0, 0, 0, 0, 0, 1, 1, 0, 0, 0, 0, 0, 0, 0, 0, 0, 0, 0, 0, 0, 0, 0, 0, 0, 0, 1, 0, 0, 0, 0, 0, 0, 0, 0, 0, 0, 0, 0, 0, 0, 0, 1, 0, 0, 0, 0, 0, 0, 0, 0, 0, 0, 0, 1, 0, 0, 0, 0, 0, 0, 0, 0, 1, 0, 0, 0, 0, 1, 1, 0, 0, 0, 1, 0, 0, 0, 0, 0, 0, 0, 1, 0, 0, 0, 0, 0, 0, 0, 0, 1, 0, 0, 0, 0, 0, 0, 0, 0, 0, 0, 0, 0, 0, 0, 0, 0, 1, 0, 0, 0, 0, 0, 0, 0, 0, 0, 0, 1, 0, 0, 0, 0, 1, 1, 0, 0, 0, 0, 0, 0, 0, 0, 0, 1, 0, 1, 0, 0, 0, 0, 0, 0, 0, 0, 0, 1, 1, 1, 0, 0, 0, 0, 0, 0, 0, 0, 0, 0, 0, 1, 0, 0, 0, 1, 0, 0, 0, 0, 0, 0, 0, 1, 0, 1, 0, 1, 0, 0, 1, 0, 0, 0, 0, 0, 0, 0, 0, 0, 0, 0, 1, 0, 0, 0, 1, 0, 0, 0, 0, 0, 0, 0, 0, 0, 0, 1, 0, 0, 0, 0, 0, 0, 0, 0, 0, 0, 0, 0, 0, 0, 1, 0, 0, 0, 0, 0, 0, 0, 0, 1, 1, 0, 0, 0, 1, 0, 1, 0, 0, 0, 0, 0, 0, 0, 0, 1, 1, 0, 0, 0, 1, 0, 0, 0, 0, 0, 0, 0, 0, 0, 0, 0, 0, 0, 0, 1, 0, 0, 0, 0, 0, 0, 0, 0, 0, 0, 0, 0, 0, 0, 0, 0, 0, 0, 0, 0, 0, 0, 1, 0, 1, 0, 0, 0, 0, 0, 0, 0, 0, 0, 0, 0, 0, 0, 0, 0, 0, 0, 0, 1, 0, 1, 1, 0, 0, 0, 1, 0, 0, 0, 0, 1, 0, 0, 0, 0, 0, 0, 0, 0, 0, 0, 0, 0, 0, 0, 0, 0, 0, 0, 0, 0, 0, 1, 0, 0, 0, 0, 0, 0, 0, 0, 0, 0, 1, 0, 0, 0, 0, 0, 0, 1, 0, 0, 0, 1, 0, 0, 0, 1, 0, 0, 0, 0, 0, 0, 0, 0, 0, 0, 0, 0, 0, 0, 0, 0, 0, 0, 0, 0, 0, 0, 1, 1, 1, 0, 0, 0, 0, 0, 0, 0, 1, 1, 0, 0, 0, 0, 0, 0, 0, 0, 0, 0, 0, 0, 0, 0, 0, 0, 0, 1, 0, 0, 0, 0, 0, 0, 0, 0, 0, 0, 0, 0, 0, 0, 1, 0, 0, 0, 0, 0, 1, 0, 1, 0, 0, 0, 0, 0, 0, 0, 1, 0, 0, 0, 0, 1, 0, 0, 0, 0, 0, 0, 0, 0, 0, 0, 1, 0, 1, 0, 0, 0, 0, 0, 0, 1, 0, 0, 0, 1, 0, 0, 0, 0, 0, 0, 0, 1, 1, 0, 0, 0, 0, 0, 0, 1, 0, 0, 1, 0, 0, 0, 0, 0, 0, 0, 1, 0, 0, 0, 0, 0, 0, 0, 0, 0, 0, 0, 1, 0, 0, 0, 0, 0, 0, 0, 0, 1, 0, 0, 0, 0, 0, 0, 1, 0, 0, 0, 0, 1, 0, 1, 0, 0, 0, 0, 0, 1, 0, 0, 0, 1, 0, 0, 0, 0, 0, 0, 0, 0, 0, 0, 0, 0, 0, 0, 0, 0, 0, 0, 0, 0, 0, 1, 0, 0, 0, 0, 0, 0, 0, 0, 0, 0, 0, 0, 0, 0, 0, 0, 0, 0, 0, 0, 0, 0, 0, 0, 0, 0, 0, 0, 0, 0, 1, 0, 0, 0, 1, 0, 0, 0, 1, 0, 0, 0, 0, 0, 0, 0, 0, 1, 0, 1, 1, 0, 0, 0, 0, 0, 0, 0, 0, 1, 0, 0, 0, 0, 0, 0, 0, 0, 0, 1, 0, 0, 0, 0, 0, 1, 1, 0, 1, 0, 0, 1, 0, 0, 0, 1, 0, 0, 0, 1, 0, 0, 1, 0, 0, 0, 0, 0, 0, 1, 0, 0, 0, 0, 0, 0, 0, 1, 1, 0, 0, 0, 0, 0, 0, 0, 1, 0, 0, 0, 1, 0, 1, 0, 0, 0, 0, 1, 0, 0, 0, 0, 0, 0, 0, 0, 0, 0, 0, 0, 1, 0, 1, 0, 1, 0, 0, 0, 0, 0, 0, 0, 1, 0, 1, 0, 0, 0, 0, 0, 1, 0, 0, 0, 0, 0, 0, 1, 0, 0, 0, 1, 0, 0, 1, 0, 1, 0, 0, 0, 0, 0, 0, 0, 0, 0, 1, 0, 1, 0, 0, 0, 0, 0, 0, 0, 0, 0, 0, 0, 0, 1, 1, 0, 0, 0, 0, 0, 0, 0, 0, 0, 0, 0, 0, 0, 0, 0, 0, 0, 0, 1, 0, 0, 1, 0, 0, 0, 0, 0, 0, 0, 0, 0, 0, 0, 0, 0, 0, 0, 0, 0, 0, 0, 0, 0, 0, 0, 1, 1, 0, 0, 0, 0, 0, 0, 0, 0, 0, 1, 0, 0, 0, 0, 0, 0, 1, 0, 0, 0, 0, 0, 1, 0, 0, 0, 0, 0, 0, 0, 0, 0, 0, 0, 0, 1, 0, 0, 0, 0, 0, 0, 0, 1, 0, 0, 0, 0, 0, 0, 0, 0, 1, 0, 0, 0, 0, 0, 0, 0, 1, 0, 0, 0, 1, 0, 0, 0, 0, 0, 1, 0, 0, 1, 0, 0, 0, 0, 0, 0, 0, 0, 0, 0, 0, 0, 0, 1, 0, 0, 0, 1, 0, 0, 0, 0, 0, 0, 0, 0, 0, 0, 0, 0, 0, 0, 0, 0, 0, 1, 0, 0, 0, 0, 0, 0, 0, 1, 0, 0, 0, 0, 0, 0, 0, 0, 0, 0, 0, 0, 0, 1, 0, 0, 0, 0, 0, 0, 0, 0, 0, 1, 0, 0, 0, 0, 0, 0, 1, 0, 1, 0, 0, 0, 0, 0, 0, 0, 0, 0, 0, 1, 0, 0, 0, 0, 0, 0, 1, 0, 0, 0, 0, 1, 0, 0, 0, 0, 0, 1, 0, 0, 0, 0, 0, 0, 1, 0, 0, 0, 0, 0, 1, 0, 0, 0, 1, 0, 0, 0, 0, 0, 0, 0, 0, 0, 0, 0, 0, 0, 0, 0, 0, 0, 0, 0, 0, 0, 0, 1, 1, 0, 1, 0, 0, 0, 0, 0, 0, 0, 0, 0, 0, 0, 0, 0, 0, 0, 0, 0, 0, 0, 0, 0, 0, 0, 0, 0, 0, 0, 0, 0, 0, 0, 1, 0, 0, 0, 1, 0, 0, 0, 0, 0, 0, 0, 0, 0, 0, 0, 1, 1, 0, 0, 0, 0, 0, 0, 0, 1, 0, 0, 1, 0, 0, 1, 0, 0, 0, 1, 0, 0, 1, 0, 0, 1, 0, 0, 0, 0, 1, 0, 0, 0, 0, 0, 0, 0, 0, 0, 1, 1, 0, 0, 1, 0, 0, 0, 0, 0, 0, 0, 0, 1, 0, 0, 0, 0, 0, 0, 0, 0, 0, 0, 0, 0, 0, 0, 0, 0, 0, 0, 1, 0, 0, 0, 0, 0, 0, 0, 0, 1, 0, 0, 0, 0, 0, 0, 0, 0, 0, 0, 0, 0, 0, 0, 0, 0, 0, 0, 0, 0, 0, 0, 1, 0, 0, 0, 0, 0, 0, 0, 0, 0, 0, 1, 0, 0, 0, 1, 0, 0, 0, 0, 0, 0, 0, 0, 0, 0, 0, 0, 0, 0, 0, 1, 0, 0, 0, 1, 0, 0, 1, 0, 1, 0, 0, 0, 0, 0, 0, 0, 0, 0, 0, 0, 0, 0, 0, 0, 0, 0, 0, 0, 0, 0, 0, 0, 0, 0, 0, 0, 0, 1, 1, 0, 0, 0, 0, 0, 0, 0, 0, 0, 0, 0, 0, 0, 0, 0, 0, 0, 0, 0, 0, 0, 0, 0, 0, 0, 0, 0, 0, 0, 0, 0, 0, 0, 1, 0, 1, 0, 0, 0, 0, 0, 0, 0, 0, 0, 0, 1, 0, 1, 0, 0, 0, 0, 1, 1, 0, 0, 0, 0, 0, 0, 0, 0, 0, 0, 0, 0, 0, 0, 0, 0, 0, 0, 0, 0, 0, 0, 0, 0, 0, 0, 0, 0, 0, 1, 0, 0, 0, 0, 0, 0, 0, 0, 0, 0, 1, 0, 0, 0, 0, 0, 0, 0, 0, 0, 0, 1, 0, 0, 0, 1, 0, 0, 0, 1, 0, 0, 0, 0, 0, 0, 0, 0, 1, 1, 0, 0, 0, 0, 0, 0, 0, 0, 0, 0, 0, 0, 0, 0, 1, 0, 0, 0, 0, 0, 0, 0, 0, 0, 0, 0, 0, 0, 0, 0, 0, 0, 0, 0, 0, 0, 0, 0, 0, 0, 1, 0, 0, 0, 0, 0, 1, 0, 0, 0, 1, 1, 0, 1, 0, 1, 0, 0, 1, 0, 0, 0, 0, 0, 0, 0, 0, 0, 0, 0, 0, 0, 0, 1, 0, 0, 1, 0, 0, 0, 0, 0, 0, 0, 0, 0, 1, 0, 0, 0, 0, 0, 1, 0, 0, 0, 0, 0, 0, 0, 0, 0, 0, 0, 0, 0, 1, 1, 0, 0, 0, 0, 0, 0, 0, 0, 0, 0, 0, 0, 0, 0, 0, 0, 0, 0, 0, 0, 0, 0, 1, 0, 0, 0, 0, 0, 1, 0, 1, 0, 0, 0, 0, 0, 0, 0, 0, 0, 1, 0, 0, 0, 1, 1, 0, 0, 0, 0, 0, 0, 0, 0, 0, 1, 1, 0, 0, 1, 0, 0, 1, 1, 0, 0, 0, 0, 1, 0, 0, 0, 0, 0, 0, 0, 0, 1, 1, 1, 0, 0, 0, 0, 0, 0, 0, 1, 0, 1, 0, 0, 0, 0, 0, 0, 0, 0, 0, 0, 1, 0, 0, 0, 0, 0, 0, 0, 0, 1, 0, 0, 0, 0, 0, 1, 0, 0, 0, 1, 1, 0, 0, 1, 0, 0, 1, 0, 0, 0, 0, 0, 0, 1, 0, 1, 0, 0, 0, 0, 0, 0, 0, 0, 0, 0, 0, 0, 0, 0, 0, 1, 0, 0, 0, 1, 0, 0, 0, 0, 0, 1, 0, 0, 0, 0, 1, 0, 0, 0, 0, 0, 0, 0, 0, 1, 1, 0, 0, 0, 1, 0, 0, 0, 0, 0, 0, 0, 1, 1, 0, 0, 0, 0, 0, 0, 0, 0, 0, 0, 0, 0, 0, 1, 0, 0, 0, 1, 0, 0, 0, 1, 0, 0, 0, 0, 0, 0, 0, 0, 0, 0, 0, 0, 0, 0, 1, 0, 0, 0, 0, 1, 0, 0, 0, 0, 0, 0, 0, 0, 0, 0, 0, 0, 1, 1, 0, 0, 0, 0, 1, 0, 1, 0, 0, 1, 0, 0, 0, 1, 0, 0, 0, 0, 0, 0, 0, 0, 0, 0, 1, 0, 0, 1, 0, 0, 1, 0, 0, 0, 0, 0, 1, 0, 0, 0, 0, 0, 1, 0, 0, 0, 0, 0, 0, 0, 0, 0, 0, 0, 0, 0, 0, 0, 0, 1, 0, 0, 0, 0, 0, 1, 0, 0, 0, 0, 0, 0, 0, 0, 0, 0, 0, 0, 0, 0, 0, 0, 1, 0, 0, 1, 1, 0, 1, 0, 0, 0, 0, 0, 0, 0, 0, 0, 0, 0, 0, 0, 0, 0, 0, 0, 0, 0, 0, 0, 0, 0, 1, 0, 0, 0, 0, 1, 0, 0, 0, 0, 1, 0, 0, 0, 0, 0, 0, 1, 0, 1, 0, 0, 0, 0, 0, 0, 0, 0, 1, 0, 0, 0, 0, 0, 1, 0, 0, 0, 0, 0, 0, 1, 0, 1, 0, 0, 0, 1, 0, 0, 0, 1, 0, 0, 0, 0, 0, 0, 0, 0, 0, 0, 0, 0, 0, 1, 0, 0, 0, 0, 0, 0, 0, 1, 0, 0, 0, 0, 0, 0, 0, 1, 0, 0, 0, 0, 0, 0, 0, 1, 0, 0, 0, 0, 0, 0, 0, 0, 1, 0, 0, 0, 0, 0, 0, 0, 1, 0, 0, 0, 0, 0, 0, 0, 0, 0, 0, 0, 0, 1, 0, 1, 0, 0, 0, 0, 0, 1, 0, 0, 0, 1, 0, 0, 0, 0, 0, 0, 0, 0, 0, 0, 0, 0, 0, 0, 0, 0, 1, 1, 0, 0, 0, 0, 0, 0, 0, 0, 0, 0, 0, 0, 1, 1, 1, 0, 0, 0, 1, 1, 0, 0, 0, 0, 0, 0, 0, 0, 1, 0, 0, 0, 0, 0, 0, 0, 0, 0, 0, 0, 0, 0, 0, 0, 0, 0, 0, 0, 0, 0, 0, 0, 0, 0, 0, 0, 1, 0, 1, 1, 1, 0, 0, 0, 0, 0, 1, 0, 0, 0, 0, 0, 0, 0, 1, 0, 0, 0, 1, 0, 0, 0, 0, 0, 0, 0, 0, 0, 0, 0, 0, 0, 0, 0, 0, 0, 0, 0, 1, 0, 0, 0, 0, 0, 0, 0, 0, 0, 0, 0, 0, 0, 0, 0, 1, 0, 0, 0, 0, 1, 0, 0, 0, 0, 0, 0, 0, 0, 0, 0, 0, 0, 0, 0, 0, 0, 0, 0, 1, 0, 0, 0, 1, 0, 1, 1, 0, 0, 1, 0, 0, 1, 0, 0, 0, 0, 0, 0, 0, 0, 0, 0, 1, 0, 0, 0, 0, 0, 0, 0, 0, 1, 0, 0, 1, 0, 1, 0, 0, 0, 0, 0, 0, 0, 0, 0, 0, 0, 0, 1, 1, 0, 0, 1, 0, 0, 0, 0, 0, 0, 0, 0, 1, 0, 1, 1, 0, 0, 1, 0, 0, 0, 0, 0, 0, 1, 0, 0, 0, 1, 0, 0, 0, 0, 0, 0, 0, 0, 0, 0, 0, 0, 0, 0, 0, 0, 0, 0, 1, 0, 0, 1, 0, 0, 1, 0, 0, 0, 0, 0, 0, 0, 1, 0, 0, 0, 0, 0, 0, 0, 0, 0, 0, 0, 0, 0, 0, 0, 0, 0, 0, 0, 0, 1, 0, 0, 0, 0, 0, 1, 0, 0, 0, 0, 0, 0, 0, 0, 0, 0, 1, 0, 0, 0, 1, 1, 0, 0, 0, 0, 0, 0, 1, 0, 0, 1, 0, 0, 0, 0, 0, 0, 0, 0, 1, 0, 0, 0, 0, 0, 0, 0, 0, 0, 1, 0, 0, 0, 0, 0, 0, 0, 0, 0, 0, 0, 0, 0, 0, 0, 0, 0, 0, 0, 0, 0, 0, 1, 0, 0, 0, 0, 0, 0, 0, 1, 0, 0, 0, 0, 0, 0, 0, 0, 0, 0, 0, 0, 0, 0, 0, 0, 0, 0, 0, 0, 0, 0, 0, 0, 1, 0, 0, 1, 0, 0, 0, 0, 0, 0, 0, 0, 0, 0, 0, 0, 0, 0, 0, 0, 1, 0, 0, 0, 1, 1, 0, 1, 0, 0, 0, 0, 0, 0, 0, 1, 0, 0, 0, 0, 0, 0, 0, 0, 0, 0, 0, 0, 0, 1, 0, 0, 0, 0, 0, 0, 1, 0, 0, 0, 0, 0, 1, 0, 0, 0, 0, 0, 0, 0, 0, 0, 0, 0, 0, 0, 0, 0, 1, 0, 0, 0, 0, 1, 0, 0, 0, 0, 0, 0, 0, 0, 0, 0, 1, 1, 0, 0, 1, 0, 0, 1, 1, 0, 0, 0, 0, 1, 1, 0, 0, 0, 0, 0, 1, 1, 0, 0, 0, 0, 0, 1, 1, 0, 1, 0, 1, 0, 0, 0, 0, 0, 0, 0, 0, 1, 0, 0, 1, 0, 1, 0, 0, 1, 0, 0, 1, 0, 0, 1, 0, 0, 0, 1, 0, 0, 0, 0, 0, 0, 0, 1, 0, 0, 0, 0, 0, 0, 0, 1, 0, 0, 0, 0, 0, 0, 0, 0, 0, 1, 0, 0, 0, 0, 0, 0, 0, 0, 0, 0, 0, 0, 0, 0, 0, 0, 0, 1, 0, 0, 0, 0, 0, 1, 0, 0, 0, 0, 0, 0, 0, 0, 0, 0, 0, 0, 0, 0, 0, 0, 0, 0, 0, 0, 0, 0, 1, 1, 0, 0, 0, 0, 0, 1, 0, 0, 0, 0, 0, 0, 0, 0, 0, 0, 0, 1, 0, 0, 0, 0, 0, 0, 0, 0, 0, 0, 0, 1, 1, 0, 0, 0, 0, 0, 0, 1, 0, 1, 1, 0, 0, 0, 0, 1, 0, 0, 0, 0, 0, 0, 0, 0, 0, 0, 0, 0, 1, 0, 0, 1, 0, 0, 0, 0, 0, 0, 0, 0, 0, 0, 1, 0, 0, 1, 0, 1, 1, 0, 0, 1, 0, 0, 0, 0, 0, 0, 0, 0, 0, 1, 0, 0, 1, 0, 0, 0, 0, 0, 0, 1, 0, 0, 0, 0, 0, 0, 0, 0, 0, 0, 0, 0, 0, 0, 0, 0, 0, 0, 0, 0, 0, 0, 1, 1, 0, 0, 0, 0, 0, 0, 0, 0, 0, 0, 0, 0, 0, 0, 0, 0, 0, 0, 0, 0, 0, 0, 0, 1, 0, 0, 0, 0, 0, 0, 0, 0, 0, 0, 0, 0, 0, 0, 1, 0, 0, 0, 0, 0, 0, 1, 0, 0, 0, 0, 0, 0, 0, 1, 1, 0, 0, 1, 0, 0, 1, 0, 0, 0, 1, 0, 0, 0, 0, 0, 1, 0, 0, 0, 0, 0, 0, 0, 1, 1, 0, 0, 0, 0, 0, 0, 0, 0, 0, 1, 0, 0, 0, 1, 0, 0, 0, 0, 0, 0, 0, 0, 0, 0, 0, 1, 0, 0, 0, 0, 0, 0, 0, 0, 0, 1, 0, 0, 0, 0, 1, 0, 0, 0, 0, 0, 1, 0, 0, 0, 0, 1, 1, 0, 0, 0, 0, 0, 0, 0, 0, 0, 0, 1, 0, 0, 0, 0, 0, 1, 1, 0, 0, 0, 1, 0, 0, 0, 0, 0, 0, 0, 0, 1, 1, 0, 1, 0, 1, 0, 0, 1, 0, 0, 0, 0, 0, 0, 0, 0, 1, 0, 0, 0, 0, 0, 0, 0, 0, 0, 1, 1, 0, 0, 0, 0, 0, 0, 0, 0, 1, 0, 0, 0, 0, 0, 0, 0, 0, 0, 0, 0, 0, 0, 0, 0, 0, 0, 0, 0, 0, 0, 0, 0, 1, 0, 0, 0, 0, 0, 1, 0, 0, 1, 0, 0, 0, 0, 0, 0, 0, 0, 0, 0, 0, 0, 0, 0, 1, 0, 0, 0, 0, 0, 0, 0, 0, 0, 0, 0, 0, 0, 0, 0, 0, 0, 0, 0, 0, 0, 0, 0, 0, 0, 0, 0, 0, 0, 0, 1, 0, 0, 0, 1, 0, 0, 0, 1, 1, 0, 0, 0, 0, 0, 0, 0, 0, 0, 0, 1, 0, 0, 0, 0, 0, 1, 0, 0, 0, 1, 0, 0, 0, 1, 0, 0, 0, 0, 1, 0, 0, 1, 0, 0, 0, 0, 0, 0, 0, 0, 0, 0, 0, 0, 0, 0, 0, 0, 1, 0, 0, 0, 0, 0, 0, 0, 0, 0, 0, 1, 0, 0, 0, 0, 0, 0, 0, 1, 0, 0, 0, 0, 0, 0, 0, 0, 0, 1, 0, 1, 0, 0, 0, 1, 0, 0, 1, 0, 0, 0, 0, 0, 0, 0, 0, 0, 1, 0, 0, 1, 0, 0, 0, 0, 0, 0, 0, 0, 0, 0, 1, 0, 0, 0, 0, 0, 0, 0, 0, 1, 1, 0, 0, 0, 1, 1, 0, 0, 0, 0, 0, 0, 0, 1, 0, 1, 0, 0, 0, 0, 0, 0, 0, 0, 1, 0, 0, 0, 0, 1, 0, 0, 0, 0, 0, 1, 0, 1, 1, 0, 0, 0, 0, 0, 0, 0, 0, 1, 0, 0, 0, 0, 1, 0, 1, 0, 0, 0, 0, 0, 1, 1, 1, 0, 0, 0, 0, 1, 0, 1, 0, 0, 0, 0, 0, 1, 0, 1, 0, 0, 0, 0, 0, 0, 0, 0, 0, 0, 0, 0, 0, 0, 0, 0, 0, 0, 0, 1, 0, 1, 0, 0, 0, 0, 0, 0, 0, 0, 1, 0, 0, 0, 0, 0, 0, 0, 0, 0, 0, 0, 0, 0, 0, 0, 0, 0, 0, 0, 1, 0, 0, 0, 1, 0, 0, 1, 0, 0, 0, 0, 0, 0, 0, 0, 1, 1, 0, 0, 0, 0, 1, 0, 1, 0, 1, 0, 0, 0, 0, 0, 0, 0, 0, 0, 0, 0, 1, 0, 0, 0, 0, 1, 0, 0, 0, 0, 0, 0, 0, 1, 0, 0, 0, 0, 0, 1, 0, 0, 1, 1, 0, 0, 0, 1, 0, 1, 0, 0, 0, 0, 0, 0, 0, 0, 0, 1, 0, 0, 0, 0, 0, 0, 0, 0, 0, 0, 0, 0, 0, 0, 1, 0, 0, 0, 0, 0, 0, 0, 0, 0, 0, 0, 0, 0, 0, 0, 0, 0, 0, 1, 1, 0, 0, 0, 0, 0, 0, 0, 0, 0, 0, 0, 0, 0, 0, 0, 0, 0, 0, 0, 0, 0, 0, 0, 0, 0, 0, 0, 0, 0, 0, 0, 0, 0, 0, 0, 1, 0, 0, 0, 0, 0, 0, 0, 0, 0, 0, 0, 0, 0, 0, 0, 0, 0, 0, 0, 0, 0, 1, 1, 0, 0, 0, 1, 0]\n",
            "[1, 0, 0, 0, 1, 0, 1, 0, 0, 0, 0, 0, 0, 0, 0, 0, 0, 0, 0, 0, 0, 0, 0, 1, 1, 0, 0, 0, 0, 0, 0, 0, 0, 0, 0, 0, 0, 0, 1, 1, 0, 1, 0, 0, 0, 0, 0, 0, 1, 0, 0, 0, 1, 0, 0, 0, 1, 1, 0, 0, 0, 0, 0, 0, 0, 1, 0, 0, 1, 0, 1, 0, 0, 0, 1, 0, 0, 0, 0, 0, 0, 0, 0, 0, 0, 0, 0, 0, 0, 1, 0, 0, 0, 1, 0, 0, 0, 0, 0, 0, 0, 0, 0, 0, 0, 0, 0, 0, 0, 1, 0, 0, 0, 0, 0, 0, 0, 0, 0, 0, 0, 0, 0, 0, 1, 0, 0, 0, 0, 0, 0, 0, 1, 0, 0, 0, 0, 0, 0, 0, 0, 0, 0, 0, 0, 0, 0, 0, 0, 0, 0, 0, 0, 0, 1, 0, 1, 0, 0, 0, 0, 1, 0, 0, 0, 0, 0, 0, 0, 0, 1, 0, 0, 0, 0, 0, 0, 0, 0, 0, 1, 0, 1, 0, 0, 0, 0, 0, 0, 0, 0, 0, 0, 0, 1, 0, 0, 0, 0, 0, 0, 0, 0, 1, 0, 0, 0, 1, 0, 0, 0, 0, 0, 1, 0, 1, 0, 0, 0, 0, 0, 1, 0, 0, 1, 0, 0, 0, 1, 0, 0, 0, 0, 0, 0, 0, 0, 0, 1, 0, 0, 0, 1, 1, 1, 0, 0, 1, 0, 0, 0, 1, 0, 0, 0, 1, 0, 0, 0, 0, 0, 0, 1, 0, 0, 1, 0, 0, 0, 0, 0, 1, 1, 0, 0, 0, 0, 0, 0, 0, 0, 0, 0, 0, 1, 0, 0, 0, 0, 0, 0, 1, 0, 0, 0, 0, 0, 1, 0, 0, 0, 0, 0, 0, 0, 0, 0, 0, 1, 1, 0, 1, 0, 0, 0, 0, 0, 1, 0, 1, 0, 0, 0, 0, 0, 0, 0, 0, 0, 0, 0, 0, 0, 0, 0, 0, 0, 0, 0, 0, 0, 0, 0, 0, 0, 0, 0, 0, 0, 0, 0, 0, 0, 0, 0, 0, 0, 0, 0, 0, 0, 0, 0, 0, 0, 1, 0, 0, 0, 1, 0, 0, 0, 0, 0, 0, 0, 0, 0, 0, 1, 0, 0, 0, 0, 0, 0, 0, 0, 0, 0, 0, 1, 0, 0, 0, 0, 1, 0, 0, 0, 0, 0, 0, 0, 0, 0, 0, 0, 1, 0, 0, 0, 0, 0, 0, 0, 1, 0, 0, 0, 0, 0, 0, 0, 0, 0, 0, 0, 1, 0, 0, 0, 0, 1, 0, 0, 0, 1, 1, 0, 0, 1, 0, 0, 0, 0, 0, 0, 0, 0, 0, 0, 0, 0, 1, 0, 0, 1, 0, 0, 0, 0, 1, 0, 1, 1, 0, 0, 0, 0, 0, 0, 0, 0, 0, 1, 0, 0, 0, 1, 0, 0, 0, 0, 0, 0, 0, 0, 0, 0, 0, 0, 0, 0, 0, 0, 0, 0, 0, 0, 0, 0, 0, 1, 0, 0, 0, 0, 0, 0, 0, 0, 0, 0, 0, 0, 0, 0, 0, 1, 0, 0, 0, 0, 0, 0, 0, 0, 0, 0, 0, 0, 0, 0, 0, 0, 0, 0, 0, 0, 1, 0, 0, 0, 0, 0, 0, 0, 1, 0, 1, 0, 0, 0, 0, 0, 0, 1, 0, 0, 0, 0, 0, 0, 1, 0, 0, 0, 0, 0, 0, 0, 0, 0, 0, 0, 1, 0, 0, 0, 0, 1, 0, 1, 0, 0, 0, 0, 0, 0, 0, 0, 0, 0, 0, 0, 0, 0, 0, 0, 0, 1, 0, 0, 0, 0, 0, 0, 0, 0, 1, 0, 0, 0, 1, 0, 0, 0, 0, 0, 1, 0, 0, 0, 0, 0, 0, 0, 1, 0, 0, 0, 1, 1, 0, 1, 0, 0, 0, 0, 0, 0, 0, 1, 0, 0, 0, 0, 0, 0, 0, 0, 0, 0, 0, 0, 0, 0, 0, 0, 0, 0, 0, 0, 0, 0, 0, 0, 0, 0, 0, 0, 0, 0, 0, 0, 0, 0, 0, 0, 0, 0, 0, 0, 0, 0, 0, 0, 0, 0, 0, 0, 0, 0, 0, 0, 0, 0, 0, 1, 0, 0, 0, 0, 0, 0, 0, 0, 0, 0, 0, 0, 1, 0, 0, 0, 0, 0, 0, 0, 0, 0, 0, 0, 0, 0, 0, 0, 0, 0, 0, 0, 0, 0, 0, 0, 0, 0, 0, 0, 0, 0, 0, 0, 0, 0, 0, 1, 0, 0, 0, 0, 0, 1, 1, 0, 0, 0, 0, 0, 0, 0, 0, 0, 0, 0, 0, 0, 0, 0, 0, 0, 0, 0, 0, 1, 0, 0, 0, 0, 0, 0, 0, 0, 0, 1, 0, 1, 1, 0, 0, 0, 0, 0, 0, 1, 0, 0, 0, 0, 0, 0, 0, 1, 1, 0, 0, 0, 0, 0, 0, 0, 0, 0, 0, 0, 0, 0, 1, 0, 0, 0, 0, 0, 0, 0, 1, 1, 0, 1, 1, 0, 0, 0, 0, 0, 0, 1, 1, 0, 0, 0, 0, 0, 0, 0, 0, 0, 0, 0, 0, 0, 0, 0, 0, 0, 0, 0, 0, 0, 0, 0, 0, 0, 0, 0, 0, 0, 0, 0, 1, 1, 0, 0, 0, 0, 0, 1, 0, 0, 0, 0, 0, 0, 0, 0, 0, 0, 0, 0, 0, 0, 0, 0, 0, 0, 0, 0, 0, 0, 0, 1, 1, 0, 0, 0, 0, 0, 1, 0, 0, 0, 0, 0, 0, 0, 0, 0, 0, 0, 0, 1, 1, 0, 0, 0, 1, 0, 0, 0, 0, 0, 0, 0, 0, 0, 0, 0, 0, 0, 0, 0, 0, 1, 0, 0, 0, 1, 0, 0, 1, 0, 0, 0, 0, 0, 1, 0, 0, 0, 0, 0, 0, 0, 1, 0, 0, 0, 1, 1, 0, 0, 0, 0, 0, 0, 1, 0, 0, 0, 0, 0, 0, 1, 0, 0, 0, 1, 0, 0, 0, 0, 0, 0, 0, 0, 0, 0, 0, 0, 0, 0, 1, 0, 1, 1, 0, 0, 0, 0, 0, 0, 0, 0, 0, 0, 1, 0, 0, 0, 0, 0, 0, 0, 0, 1, 0, 0, 0, 0, 0, 0, 0, 0, 0, 0, 0, 0, 0, 0, 0, 0, 0, 0, 0, 0, 0, 1, 0, 0, 0, 1, 0, 0, 0, 0, 0, 0, 0, 0, 0, 0, 0, 0, 0, 0, 0, 0, 0, 0, 1, 0, 0, 0, 0, 0, 0, 0, 1, 0, 0, 1, 0, 0, 0, 0, 0, 0, 0, 0, 0, 0, 0, 1, 1, 0, 0, 0, 0, 0, 0, 0, 0, 1, 0, 0, 1, 0, 0, 0, 0, 0, 0, 1, 0, 0, 0, 0, 0, 0, 0, 0, 0, 0, 0, 1, 0, 0, 0, 1, 0, 0, 0, 0, 0, 1, 0, 0, 0, 0, 0, 0, 0, 0, 0, 0, 0, 0, 0, 0, 0, 0, 0, 0, 0, 0, 0, 0, 0, 0, 0, 0, 1, 0, 0, 1, 0, 0, 1, 0, 0, 0, 0, 0, 0, 0, 1, 0, 0, 0, 0, 0, 0, 0, 0, 0, 0, 0, 0, 0, 0, 0, 0, 0, 0, 0, 1, 0, 0, 0, 0, 0, 0, 1, 0, 0, 1, 0, 1, 0, 0, 0, 0, 0, 0, 1, 0, 0, 0, 0, 0, 0, 0, 1, 0, 0, 0, 0, 0, 0, 0, 0, 0, 0, 0, 0, 0, 0, 0, 0, 0, 1, 0, 0, 0, 1, 0, 1, 0, 0, 1, 0, 0, 0, 0, 0, 1, 0, 0, 0, 0, 1, 0, 1, 0, 0, 1, 0, 0, 0, 1, 0, 0, 0, 0, 0, 0, 0, 0, 0, 0, 0, 0, 0, 0, 0, 0, 0, 0, 0, 0, 0, 0, 0, 0, 0, 0, 0, 0, 0, 0, 0, 0, 0, 0, 0, 0, 0, 0, 0, 0, 0, 0, 0, 0, 0, 0, 0, 1, 0, 0, 1, 0, 0, 0, 0, 0, 0, 0, 0, 0, 0, 0, 0, 0, 0, 0, 0, 0, 0, 1, 0, 0, 0, 0, 0, 0, 0, 0, 0, 0, 0, 0, 0, 0, 0, 1, 0, 0, 0, 0, 0, 1, 0, 0, 0, 0, 0, 1, 1, 0, 0, 0, 0, 0, 1, 0, 0, 0, 0, 0, 0, 0, 0, 0, 0, 0, 1, 0, 0, 0, 0]\n"
          ]
        }
      ],
      "source": [
        "from sklearn.neighbors import KNeighborsClassifier\n",
        "from sklearn.feature_extraction.text import TfidfVectorizer\n",
        "\n",
        "new_y_train=calc_y_train(y_train)\n",
        "\n",
        "classifier=KNeighborsClassifier(n_neighbors=5,metric='cosine',algorithm='brute',n_jobs=-1)\n",
        "classifier.fit(newList,new_y_train)\n",
        "y_predicted=classifier.predict(newList2)\n",
        "\n",
        "new_y_test=calc_y_train(y_test)"
      ],
      "id": "f_KG0nPzTwjw"
    },
    {
      "cell_type": "markdown",
      "metadata": {
        "id": "-r8SIPRhTwjw"
      },
      "source": [
        "***Compare both the models result.***"
      ],
      "id": "-r8SIPRhTwjw"
    },
    {
      "cell_type": "code",
      "execution_count": 100,
      "metadata": {
        "id": "EyIc9pFvTwjw",
        "colab": {
          "base_uri": "https://localhost:8080/"
        },
        "outputId": "b91b6502-5120-4f92-c0b1-a3a3b1778b06"
      },
      "outputs": [
        {
          "output_type": "stream",
          "name": "stdout",
          "text": [
            "For default value of k=5\n",
            "\n",
            "Confusion Matrix\n",
            "Sklearn KNN: \n",
            " [[1206   11]\n",
            " [  41  135]]\n",
            "My KNN: \n",
            " [[1213    4]\n",
            " [  49  127]]\n",
            "\n",
            "Accuracy\n",
            "Sklearn KNN:  0.9626704953338119\n",
            "My KNN:  0.9619526202440776\n",
            "\n",
            "Precision\n",
            "Sklearn KNN:  0.9909613804437141\n",
            "My KNN:  0.9967132292522597\n",
            "\n",
            "Recall\n",
            "Sklearn KNN:  0.967121090617482\n",
            "My KNN:  0.9611727416798732\n",
            "\n",
            "F1 Score\n",
            "Sklearn KNN:  0.9788961038961039\n",
            "My KNN:  0.9786204114562324\n"
          ]
        }
      ],
      "source": [
        "sklearn_conf=confusion_matrix(new_y_test, y_predicted)\n",
        "\n",
        "tp4=sklearn_conf[0][0]\n",
        "fp4=sklearn_conf[0][1]\n",
        "fn4=sklearn_conf[1][0]\n",
        "tn4=sklearn_conf[1][1]\n",
        "\n",
        "acc4=(tp4+tn4)/(tp4+fp4+fn4+tn4)\n",
        "prec4=tp4/(tp4+fp4)\n",
        "rec4=tp4/(tp4+fn4)\n",
        "fsc4=(2*tp4/((2*tp4)+fp4+fn4))\n",
        "\n",
        "print(\"For default value of k=5\")\n",
        "print(\"\\nConfusion Matrix\")\n",
        "print(\"Sklearn KNN: \\n\",sklearn_conf)\n",
        "print(\"My KNN: \\n\",cos_conf)\n",
        "print(\"\\nAccuracy\")\n",
        "print(\"Sklearn KNN: \",acc4)\n",
        "print(\"My KNN: \",acc1)\n",
        "print(\"\\nPrecision\")\n",
        "print(\"Sklearn KNN: \",prec4)\n",
        "print(\"My KNN: \",prec1)\n",
        "print(\"\\nRecall\")\n",
        "print(\"Sklearn KNN: \",rec4)\n",
        "print(\"My KNN: \",rec1)\n",
        "print(\"\\nF1 Score\")\n",
        "print(\"Sklearn KNN: \",fsc4)\n",
        "print(\"My KNN: \",fsc1)"
      ],
      "id": "EyIc9pFvTwjw"
    },
    {
      "cell_type": "markdown",
      "metadata": {
        "id": "89CTmpCKTwjw"
      },
      "source": [
        "*** \n",
        "**What is the time complexity of training using KNN classifier?** \n"
      ],
      "id": "89CTmpCKTwjw"
    },
    {
      "cell_type": "markdown",
      "metadata": {
        "id": "kkmxkIF3Twjw"
      },
      "source": [
        "The time complexity of training using KNN classifier is O(1). This is because, while training, the KNN algorithm only stores the data and does not perform any computation. "
      ],
      "id": "kkmxkIF3Twjw"
    },
    {
      "cell_type": "markdown",
      "metadata": {
        "id": "8KD9GJzATwjw"
      },
      "source": [
        "***What is the time complexity while testing? Is KNN a linear classifier or can it learn any boundary?***"
      ],
      "id": "8KD9GJzATwjw"
    },
    {
      "cell_type": "raw",
      "metadata": {
        "id": "zFTiImG9Twjx"
      },
      "source": [
        "The time complexity of our model while testing an email is O(n*d), where\n",
        "n = number of training samples\n",
        "d = number of unique words\n",
        "\n",
        "On the other hand, the time complexity for sklearn's KNN is O(n).\n",
        "\n",
        "KNN is **not a linear classifier**. A classifier is linear if its decision boundary on the feature space is a linear function, i.e., positive and negative values are separated by a hyperplane. With KNN, we don't have a hyperplane in general. "
      ],
      "id": "zFTiImG9Twjx"
    }
  ],
  "metadata": {
    "kernelspec": {
      "display_name": "Python 3",
      "language": "python",
      "name": "python3"
    },
    "language_info": {
      "codemirror_mode": {
        "name": "ipython",
        "version": 3
      },
      "file_extension": ".py",
      "mimetype": "text/x-python",
      "name": "python",
      "nbconvert_exporter": "python",
      "pygments_lexer": "ipython3",
      "version": "3.7.4"
    },
    "colab": {
      "name": "rollnumber_Assignment1_Question3.ipynb",
      "provenance": [],
      "collapsed_sections": []
    }
  },
  "nbformat": 4,
  "nbformat_minor": 5
}