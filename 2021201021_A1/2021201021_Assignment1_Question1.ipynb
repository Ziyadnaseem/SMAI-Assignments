{
  "cells": [
    {
      "cell_type": "markdown",
      "metadata": {
        "id": "tE_rGFDH4qjU"
      },
      "source": [
        "# Image Recommendation System via Collaborative Filtering"
      ],
      "id": "tE_rGFDH4qjU"
    },
    {
      "cell_type": "markdown",
      "metadata": {
        "id": "XZMNfDVe4qjY"
      },
      "source": [
        "# ***Please read the instructions very carefully***"
      ],
      "id": "XZMNfDVe4qjY"
    },
    {
      "cell_type": "markdown",
      "metadata": {
        "id": "4BsZ304u4qjZ"
      },
      "source": [
        "1.   Assignment must be implemented in Python 3 only.\n",
        "2.   You are allowed to use libraries for data preprocessing (numpy, pandas, nltk etc) and for evaluation metrics, data visualization (matplotlib etc.).\n",
        "3.   You will be evaluated not just on the overall performance of the model and also on the experimentation with hyper parameters, data prepossessing techniques etc.\n",
        "4.   ⚠️ The Assignment will be evaluated automatically. Please adhere to taking proper inputs from `config.csv` file. You can change your `config.csv` file to experiment with your code. But at the end, make sure that your outputs are corresponding to input values in `config.csv`\n",
        "5.   Strict plagiarism checking will be done. An F will be awarded for plagiarism."
      ],
      "id": "4BsZ304u4qjZ"
    },
    {
      "cell_type": "markdown",
      "metadata": {
        "id": "FNAoDtt94qja"
      },
      "source": [
        "## About the Dataset\n",
        "Behance is a community art website where users showcase and discover creative work. Each user is able to “appreciate” (equivalent to a “like” on Instagram or a “react” on Facebook) an image, indicating that they like the image. It is in the website’s best interests to show users pictures that they would like, to keep them engaged for longer. For this question, given a set of pictures that a user has already appreciated, you have to show them a new picture that they would like based on what similar users appreciated.\n",
        "\n",
        "\n",
        "<br><br>\n",
        "**The dataset has information of 1 million appreciates of 63,497 users on 178,788 items. The file Behance appreciate 1M has a triplet in each line in the form of (user id, item id, unix timestamp).**"
      ],
      "id": "FNAoDtt94qja"
    },
    {
      "cell_type": "markdown",
      "metadata": {
        "id": "lY9TZWq84qjb"
      },
      "source": [
        "**Task: Take the inputs from the config.csv file and output the recommendations for a particular person**\n",
        "- Collaborative Filtering is a way to predict items to the user based on the the\n",
        "user’s history and the history of similar users. The similarity between users can be quantified by the number of images that both the users appreciated.\n",
        "- The images appreciated by a similar user would be the most suitable images to show a user. Since we can find the similarity between any two users, we would be able to find the “nearest” neighbours of any user, allowing us to use a KNN-based algorithm to recommend new images to a user.\n",
        "- Since people do not like seeing pictures that they have seen already. Make sure that you do not recommend pictures that a user has appreciated already.\n",
        "- Output the final response will be saved in the file named ```config['output_file']```.\n"
      ],
      "id": "lY9TZWq84qjb"
    },
    {
      "cell_type": "markdown",
      "metadata": {
        "id": "Jm0MFPYj4qjc"
      },
      "source": [
        "**Output file format:**\n",
        "Populate the output file with images that the user has not seen of the k most\n",
        "similar users, in descending order of their similarity. Each line in the output\n",
        "file should be a duplet in the form of (item id, user id), where the user id is the\n",
        "id of the kth similar user. The order of the images corresponding to the same\n",
        "similar user would not matter. The output file would look something like this:\n",
        "```\n",
        "item_id_1_of_1st_similar_user 1st_most_similar_user_id\n",
        "item_id_2_of_1st_similar_user 1st_most_similar_user_id\n",
        "item_id_3_of_1st_similar_user 1st_most_similar_user_id\n",
        "...\n",
        "item_id_1_of_2nd_similar_user 2nd_most_similar_user_id\n",
        "item_id_2_of_2nd_similar_user 2nd_most_similar_user_id\n",
        "item_id_3_of_2nd_similar_user 2nd_most_similar_user_id\n",
        "...\n",
        "item_id_1_of_kth_similar_user kth_most_similar_user_id\n",
        "item_id_2_of_kth_similar_user kth_most_similar_user_id\n",
        "item_id_3_of_kth_similar_user kth_most_similar_user_id\n",
        "```"
      ],
      "id": "Jm0MFPYj4qjc"
    },
    {
      "cell_type": "markdown",
      "metadata": {
        "id": "gpRDr3Ek4qjd"
      },
      "source": [
        "The dataset was extracted using Behance’s API as a part of the paper\n",
        "“Vista: A visually, socially, and temporally-aware model for artistic\n",
        "recommendation, RecSys, 2016”. Check out this [Google Drive folder](https://drive.google.com/drive/folders/0B9Ck8jw-TZUEc3NlMjVXdDlPU1k?resourcekey=0-6_8ykn0o4fLc5fuTEm91xA) for\n",
        "more information about the dataset.\n",
        "\n",
        "\n",
        "Have fun! The users are waiting to see new pictures!"
      ],
      "id": "gpRDr3Ek4qjd"
    },
    {
      "cell_type": "markdown",
      "metadata": {
        "id": "9LedKJ2n4qje"
      },
      "source": [
        "### Import necessary libraries"
      ],
      "id": "9LedKJ2n4qje"
    },
    {
      "cell_type": "code",
      "execution_count": null,
      "metadata": {
        "id": "Z54YiNXm4qjf"
      },
      "outputs": [],
      "source": [
        "import numpy as np\n",
        "import pandas as pd\n",
        "from scipy.sparse import csr_matrix\n",
        "from sklearn.decomposition import TruncatedSVD\n",
        "from numpy import dot\n",
        "from numpy.linalg import norm"
      ],
      "id": "Z54YiNXm4qjf"
    },
    {
      "cell_type": "code",
      "execution_count": null,
      "metadata": {
        "id": "z1iisCIk4qjh"
      },
      "outputs": [],
      "source": [
        "# Config Generation Sample Code.\n",
        "# ⚠️ Only for experimentation on your side.\n",
        "# ⚠️ Should be commented during submission.\n",
        "\n",
        "# df = pd.DataFrame(data=[{'id':276633,\n",
        "#                   'k':5,\n",
        "#                   'dataset_file':'./Behance_appreciate_1M',\n",
        "#                   'output_file':'./output.txt'}])\n",
        "# df.to_csv('config.csv')"
      ],
      "id": "z1iisCIk4qjh"
    },
    {
      "cell_type": "code",
      "execution_count": null,
      "metadata": {
        "id": "2Q8IhkPW4qjh",
        "colab": {
          "base_uri": "https://localhost:8080/",
          "height": 380
        },
        "outputId": "e8cb2783-170f-4884-f7ef-e49495430267"
      },
      "outputs": [
        {
          "output_type": "error",
          "ename": "FileNotFoundError",
          "evalue": "ignored",
          "traceback": [
            "\u001b[0;31m---------------------------------------------------------------------------\u001b[0m",
            "\u001b[0;31mFileNotFoundError\u001b[0m                         Traceback (most recent call last)",
            "\u001b[0;32m<ipython-input-3-3f89e19b686c>\u001b[0m in \u001b[0;36m<module>\u001b[0;34m()\u001b[0m\n\u001b[0;32m----> 1\u001b[0;31m \u001b[0mconfig\u001b[0m \u001b[0;34m=\u001b[0m \u001b[0mpd\u001b[0m\u001b[0;34m.\u001b[0m\u001b[0mread_csv\u001b[0m\u001b[0;34m(\u001b[0m\u001b[0;34m'config.csv'\u001b[0m\u001b[0;34m)\u001b[0m\u001b[0;34m.\u001b[0m\u001b[0miloc\u001b[0m\u001b[0;34m[\u001b[0m\u001b[0;36m0\u001b[0m\u001b[0;34m]\u001b[0m\u001b[0;34m\u001b[0m\u001b[0;34m\u001b[0m\u001b[0m\n\u001b[0m",
            "\u001b[0;32m/usr/local/lib/python3.7/dist-packages/pandas/io/parsers.py\u001b[0m in \u001b[0;36mread_csv\u001b[0;34m(filepath_or_buffer, sep, delimiter, header, names, index_col, usecols, squeeze, prefix, mangle_dupe_cols, dtype, engine, converters, true_values, false_values, skipinitialspace, skiprows, skipfooter, nrows, na_values, keep_default_na, na_filter, verbose, skip_blank_lines, parse_dates, infer_datetime_format, keep_date_col, date_parser, dayfirst, cache_dates, iterator, chunksize, compression, thousands, decimal, lineterminator, quotechar, quoting, doublequote, escapechar, comment, encoding, dialect, error_bad_lines, warn_bad_lines, delim_whitespace, low_memory, memory_map, float_precision)\u001b[0m\n\u001b[1;32m    686\u001b[0m     )\n\u001b[1;32m    687\u001b[0m \u001b[0;34m\u001b[0m\u001b[0m\n\u001b[0;32m--> 688\u001b[0;31m     \u001b[0;32mreturn\u001b[0m \u001b[0m_read\u001b[0m\u001b[0;34m(\u001b[0m\u001b[0mfilepath_or_buffer\u001b[0m\u001b[0;34m,\u001b[0m \u001b[0mkwds\u001b[0m\u001b[0;34m)\u001b[0m\u001b[0;34m\u001b[0m\u001b[0;34m\u001b[0m\u001b[0m\n\u001b[0m\u001b[1;32m    689\u001b[0m \u001b[0;34m\u001b[0m\u001b[0m\n\u001b[1;32m    690\u001b[0m \u001b[0;34m\u001b[0m\u001b[0m\n",
            "\u001b[0;32m/usr/local/lib/python3.7/dist-packages/pandas/io/parsers.py\u001b[0m in \u001b[0;36m_read\u001b[0;34m(filepath_or_buffer, kwds)\u001b[0m\n\u001b[1;32m    452\u001b[0m \u001b[0;34m\u001b[0m\u001b[0m\n\u001b[1;32m    453\u001b[0m     \u001b[0;31m# Create the parser.\u001b[0m\u001b[0;34m\u001b[0m\u001b[0;34m\u001b[0m\u001b[0;34m\u001b[0m\u001b[0m\n\u001b[0;32m--> 454\u001b[0;31m     \u001b[0mparser\u001b[0m \u001b[0;34m=\u001b[0m \u001b[0mTextFileReader\u001b[0m\u001b[0;34m(\u001b[0m\u001b[0mfp_or_buf\u001b[0m\u001b[0;34m,\u001b[0m \u001b[0;34m**\u001b[0m\u001b[0mkwds\u001b[0m\u001b[0;34m)\u001b[0m\u001b[0;34m\u001b[0m\u001b[0;34m\u001b[0m\u001b[0m\n\u001b[0m\u001b[1;32m    455\u001b[0m \u001b[0;34m\u001b[0m\u001b[0m\n\u001b[1;32m    456\u001b[0m     \u001b[0;32mif\u001b[0m \u001b[0mchunksize\u001b[0m \u001b[0;32mor\u001b[0m \u001b[0miterator\u001b[0m\u001b[0;34m:\u001b[0m\u001b[0;34m\u001b[0m\u001b[0;34m\u001b[0m\u001b[0m\n",
            "\u001b[0;32m/usr/local/lib/python3.7/dist-packages/pandas/io/parsers.py\u001b[0m in \u001b[0;36m__init__\u001b[0;34m(self, f, engine, **kwds)\u001b[0m\n\u001b[1;32m    946\u001b[0m             \u001b[0mself\u001b[0m\u001b[0;34m.\u001b[0m\u001b[0moptions\u001b[0m\u001b[0;34m[\u001b[0m\u001b[0;34m\"has_index_names\"\u001b[0m\u001b[0;34m]\u001b[0m \u001b[0;34m=\u001b[0m \u001b[0mkwds\u001b[0m\u001b[0;34m[\u001b[0m\u001b[0;34m\"has_index_names\"\u001b[0m\u001b[0;34m]\u001b[0m\u001b[0;34m\u001b[0m\u001b[0;34m\u001b[0m\u001b[0m\n\u001b[1;32m    947\u001b[0m \u001b[0;34m\u001b[0m\u001b[0m\n\u001b[0;32m--> 948\u001b[0;31m         \u001b[0mself\u001b[0m\u001b[0;34m.\u001b[0m\u001b[0m_make_engine\u001b[0m\u001b[0;34m(\u001b[0m\u001b[0mself\u001b[0m\u001b[0;34m.\u001b[0m\u001b[0mengine\u001b[0m\u001b[0;34m)\u001b[0m\u001b[0;34m\u001b[0m\u001b[0;34m\u001b[0m\u001b[0m\n\u001b[0m\u001b[1;32m    949\u001b[0m \u001b[0;34m\u001b[0m\u001b[0m\n\u001b[1;32m    950\u001b[0m     \u001b[0;32mdef\u001b[0m \u001b[0mclose\u001b[0m\u001b[0;34m(\u001b[0m\u001b[0mself\u001b[0m\u001b[0;34m)\u001b[0m\u001b[0;34m:\u001b[0m\u001b[0;34m\u001b[0m\u001b[0;34m\u001b[0m\u001b[0m\n",
            "\u001b[0;32m/usr/local/lib/python3.7/dist-packages/pandas/io/parsers.py\u001b[0m in \u001b[0;36m_make_engine\u001b[0;34m(self, engine)\u001b[0m\n\u001b[1;32m   1178\u001b[0m     \u001b[0;32mdef\u001b[0m \u001b[0m_make_engine\u001b[0m\u001b[0;34m(\u001b[0m\u001b[0mself\u001b[0m\u001b[0;34m,\u001b[0m \u001b[0mengine\u001b[0m\u001b[0;34m=\u001b[0m\u001b[0;34m\"c\"\u001b[0m\u001b[0;34m)\u001b[0m\u001b[0;34m:\u001b[0m\u001b[0;34m\u001b[0m\u001b[0;34m\u001b[0m\u001b[0m\n\u001b[1;32m   1179\u001b[0m         \u001b[0;32mif\u001b[0m \u001b[0mengine\u001b[0m \u001b[0;34m==\u001b[0m \u001b[0;34m\"c\"\u001b[0m\u001b[0;34m:\u001b[0m\u001b[0;34m\u001b[0m\u001b[0;34m\u001b[0m\u001b[0m\n\u001b[0;32m-> 1180\u001b[0;31m             \u001b[0mself\u001b[0m\u001b[0;34m.\u001b[0m\u001b[0m_engine\u001b[0m \u001b[0;34m=\u001b[0m \u001b[0mCParserWrapper\u001b[0m\u001b[0;34m(\u001b[0m\u001b[0mself\u001b[0m\u001b[0;34m.\u001b[0m\u001b[0mf\u001b[0m\u001b[0;34m,\u001b[0m \u001b[0;34m**\u001b[0m\u001b[0mself\u001b[0m\u001b[0;34m.\u001b[0m\u001b[0moptions\u001b[0m\u001b[0;34m)\u001b[0m\u001b[0;34m\u001b[0m\u001b[0;34m\u001b[0m\u001b[0m\n\u001b[0m\u001b[1;32m   1181\u001b[0m         \u001b[0;32melse\u001b[0m\u001b[0;34m:\u001b[0m\u001b[0;34m\u001b[0m\u001b[0;34m\u001b[0m\u001b[0m\n\u001b[1;32m   1182\u001b[0m             \u001b[0;32mif\u001b[0m \u001b[0mengine\u001b[0m \u001b[0;34m==\u001b[0m \u001b[0;34m\"python\"\u001b[0m\u001b[0;34m:\u001b[0m\u001b[0;34m\u001b[0m\u001b[0;34m\u001b[0m\u001b[0m\n",
            "\u001b[0;32m/usr/local/lib/python3.7/dist-packages/pandas/io/parsers.py\u001b[0m in \u001b[0;36m__init__\u001b[0;34m(self, src, **kwds)\u001b[0m\n\u001b[1;32m   2008\u001b[0m         \u001b[0mkwds\u001b[0m\u001b[0;34m[\u001b[0m\u001b[0;34m\"usecols\"\u001b[0m\u001b[0;34m]\u001b[0m \u001b[0;34m=\u001b[0m \u001b[0mself\u001b[0m\u001b[0;34m.\u001b[0m\u001b[0musecols\u001b[0m\u001b[0;34m\u001b[0m\u001b[0;34m\u001b[0m\u001b[0m\n\u001b[1;32m   2009\u001b[0m \u001b[0;34m\u001b[0m\u001b[0m\n\u001b[0;32m-> 2010\u001b[0;31m         \u001b[0mself\u001b[0m\u001b[0;34m.\u001b[0m\u001b[0m_reader\u001b[0m \u001b[0;34m=\u001b[0m \u001b[0mparsers\u001b[0m\u001b[0;34m.\u001b[0m\u001b[0mTextReader\u001b[0m\u001b[0;34m(\u001b[0m\u001b[0msrc\u001b[0m\u001b[0;34m,\u001b[0m \u001b[0;34m**\u001b[0m\u001b[0mkwds\u001b[0m\u001b[0;34m)\u001b[0m\u001b[0;34m\u001b[0m\u001b[0;34m\u001b[0m\u001b[0m\n\u001b[0m\u001b[1;32m   2011\u001b[0m         \u001b[0mself\u001b[0m\u001b[0;34m.\u001b[0m\u001b[0munnamed_cols\u001b[0m \u001b[0;34m=\u001b[0m \u001b[0mself\u001b[0m\u001b[0;34m.\u001b[0m\u001b[0m_reader\u001b[0m\u001b[0;34m.\u001b[0m\u001b[0munnamed_cols\u001b[0m\u001b[0;34m\u001b[0m\u001b[0;34m\u001b[0m\u001b[0m\n\u001b[1;32m   2012\u001b[0m \u001b[0;34m\u001b[0m\u001b[0m\n",
            "\u001b[0;32mpandas/_libs/parsers.pyx\u001b[0m in \u001b[0;36mpandas._libs.parsers.TextReader.__cinit__\u001b[0;34m()\u001b[0m\n",
            "\u001b[0;32mpandas/_libs/parsers.pyx\u001b[0m in \u001b[0;36mpandas._libs.parsers.TextReader._setup_parser_source\u001b[0;34m()\u001b[0m\n",
            "\u001b[0;31mFileNotFoundError\u001b[0m: [Errno 2] No such file or directory: 'config.csv'"
          ]
        }
      ],
      "source": [
        "config = pd.read_csv('config.csv').iloc[0]"
      ],
      "id": "2Q8IhkPW4qjh"
    },
    {
      "cell_type": "code",
      "execution_count": null,
      "metadata": {
        "id": "tnT8_RZw4qji"
      },
      "outputs": [],
      "source": [
        "config"
      ],
      "id": "tnT8_RZw4qji"
    },
    {
      "cell_type": "code",
      "execution_count": null,
      "metadata": {
        "id": "VvB1CHb04qji"
      },
      "outputs": [],
      "source": [
        "user = config['id']\n",
        "k_value = config['k']"
      ],
      "id": "VvB1CHb04qji"
    },
    {
      "cell_type": "markdown",
      "metadata": {
        "id": "faiJ6NDj4qjj"
      },
      "source": [
        "### Read the Data"
      ],
      "id": "faiJ6NDj4qjj"
    },
    {
      "cell_type": "code",
      "execution_count": null,
      "metadata": {
        "id": "BDqQun7p4qjj"
      },
      "outputs": [],
      "source": [
        "with open(config['dataset_file'], 'r') as inFile:\n",
        "    appreciate_data = inFile.readlines()"
      ],
      "id": "BDqQun7p4qjj"
    },
    {
      "cell_type": "markdown",
      "metadata": {
        "id": "IuOxs4Mn4qjk"
      },
      "source": [
        "### Initialize a dictionary to store the item_ids that a user likes\n",
        "\n",
        "### Go through each line of the input file and construct the user_likes dictionary"
      ],
      "id": "IuOxs4Mn4qjk"
    },
    {
      "cell_type": "code",
      "execution_count": null,
      "metadata": {
        "id": "qQsDua614qjk"
      },
      "outputs": [],
      "source": [
        "user_likes = dict()\n",
        "user_set = set()\n",
        "img_set = set()"
      ],
      "id": "qQsDua614qjk"
    },
    {
      "cell_type": "code",
      "execution_count": null,
      "metadata": {
        "id": "ihfbUk0K4qjl"
      },
      "outputs": [],
      "source": [
        "for line in appreciate_data:\n",
        "    line = line.strip()\n",
        "    \n",
        "    user_id = int(line.split()[0])\n",
        "    item_id = int(line.split()[1])\n",
        "\n",
        "    user_set.add(user_id)\n",
        "    img_set.add(item_id)\n",
        "\n",
        "    if user_id not in user_likes:\n",
        "        user_likes[user_id] = list()\n",
        "    \n",
        "    user_likes[user_id].append(item_id)"
      ],
      "id": "ihfbUk0K4qjl"
    },
    {
      "cell_type": "markdown",
      "metadata": {
        "id": "L3QhaWn84qjl"
      },
      "source": [
        "### Use KNN after Collaborative Filtering to find nearest neighbors"
      ],
      "id": "L3QhaWn84qjl"
    },
    {
      "cell_type": "code",
      "execution_count": null,
      "metadata": {
        "id": "seoDEC0y4qjl"
      },
      "outputs": [],
      "source": [
        "user_id_ind_map=dict()\n",
        "j=0\n",
        "for i in user_set:\n",
        "    user_id_ind_map[i]=j\n",
        "    j=j+1\n",
        "\n",
        "img_id_ind_map=dict()\n",
        "j=0\n",
        "for i in img_set:\n",
        "    img_id_ind_map[i]=j\n",
        "    j=j+1\n",
        "\n",
        "img_set_size=len(img_set)\n",
        "\n",
        "row=[]\n",
        "col=[]\n",
        "data=[]\n",
        "\n",
        "for i in user_set:\n",
        "    for j in user_likes[i]:\n",
        "        row.append(user_id_ind_map[i])\n",
        "        col.append(img_id_ind_map[j])\n",
        "        data.append(1)\n",
        "\n",
        "row=np.array(row)\n",
        "col=np.array(col)\n",
        "data=np.array(data,dtype=float)\n",
        "mycsr_matrix=csr_matrix((data,(row,col)))\n",
        "\n",
        "svd=TruncatedSVD(n_components=1000, n_iter=7, random_state=17)\n",
        "mycsr_matrix=svd.fit_transform(mycsr_matrix)\n",
        "\n",
        "\n",
        "def cosine_dist(list1,list2):\n",
        "    return 1-(dot(list1,list2)/(norm(list1)*norm(list2)))\n",
        "\n",
        "# your code here\n",
        "def neighbors(user,k_value):\n",
        "    mylist=[]\n",
        "    for i in user_likes:\n",
        "        if i!=user:\n",
        "            num=cosine_dist(mycsr_matrix[user_id_ind_map[i]],mycsr_matrix[user_id_ind_map[user]])\n",
        "            mylist.append((num,i))\n",
        "    mylist.sort()\n",
        "    #return mylist[:k_value]\n",
        "    return mylist\n"
      ],
      "id": "seoDEC0y4qjl"
    },
    {
      "cell_type": "markdown",
      "metadata": {
        "id": "dZ-oSosF4qjm"
      },
      "source": [
        "### Open the output file to write all the lines to the file"
      ],
      "id": "dZ-oSosF4qjm"
    },
    {
      "cell_type": "code",
      "execution_count": null,
      "metadata": {
        "id": "w7QLKVAr4qjm"
      },
      "outputs": [],
      "source": [
        "outFile = open(config['output_file'], 'w')\n",
        "#img_seen=set()\n",
        "user_count=set()\n",
        "\n",
        "for n_user in neighbors(user,k_value):\n",
        "    uid=n_user[1]\n",
        "    if(len(user_count)==5):\n",
        "        break\n",
        "    for item_id in user_likes[uid]:\n",
        "        if (item_id not in user_likes[user]):# and (item_id not in img_seen):\n",
        "            user_count.add(uid)\n",
        "            #img_seen.add(item_id)\n",
        "            outFile.write(str(item_id) + ' ' + str(uid) + '\\n')\n",
        "outFile.close()"
      ],
      "id": "w7QLKVAr4qjm"
    }
  ],
  "metadata": {
    "kernelspec": {
      "display_name": "Python 3",
      "language": "python",
      "name": "python3"
    },
    "language_info": {
      "codemirror_mode": {
        "name": "ipython",
        "version": 3
      },
      "file_extension": ".py",
      "mimetype": "text/x-python",
      "name": "python",
      "nbconvert_exporter": "python",
      "pygments_lexer": "ipython3",
      "version": "3.7.4"
    },
    "colab": {
      "name": "rollnumber_Assignment1_Question1.ipynb",
      "provenance": []
    }
  },
  "nbformat": 4,
  "nbformat_minor": 5
}