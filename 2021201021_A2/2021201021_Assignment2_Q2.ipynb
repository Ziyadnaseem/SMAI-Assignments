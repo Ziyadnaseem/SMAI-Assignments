{
  "cells": [
    {
      "cell_type": "markdown",
      "id": "improving-pepper",
      "metadata": {
        "id": "improving-pepper"
      },
      "source": [
        "# Assignment 2 - Question 2\n",
        "The objective of this assignment is to get you familiarize with  the  problem  of  `Linear Regression`.\n",
        "\n",
        "## Instructions\n",
        "- Write your code and analysis in the indicated cells.\n",
        "- Ensure that this notebook runs without errors when the cells are run in sequence.\n",
        "- Do not attempt to change the contents of other cells.\n",
        "- No inbuilt functions to be used until specified\n",
        "\n",
        "## Submission\n",
        "- Ensure that this notebook runs without errors when the cells are run in sequence.\n",
        "- Rename the notebook to `<roll_number>_Assignment2_Q2.ipynb`."
      ]
    },
    {
      "cell_type": "markdown",
      "id": "final-transaction",
      "metadata": {
        "id": "final-transaction"
      },
      "source": [
        "## 2.0 Background about the dataset\n",
        "\n",
        "TLDR: You have 4 independent variables (`float`) for each molecule. You can use a linear combination of these 4 independent variables to predict the bandgap (dependent variable) of each molecule.\n",
        "\n",
        "You can read more about the problem in [Li et al, Bandgap tuning strategy by cations and halide ions of lead halide perovskites learned from machine learning, RSC Adv., 2021,11, 15688-15694](https://doi.org/10.1039/D1RA03117A)."
      ]
    },
    {
      "cell_type": "code",
      "execution_count": null,
      "id": "lyric-olympus",
      "metadata": {
        "id": "lyric-olympus"
      },
      "outputs": [],
      "source": [
        "import csv\n",
        "import random\n",
        "import numpy as np\n",
        "import matplotlib.pyplot as plt"
      ]
    },
    {
      "cell_type": "code",
      "execution_count": null,
      "id": "hundred-receipt",
      "metadata": {
        "id": "hundred-receipt"
      },
      "outputs": [],
      "source": [
        "all_molecules = list()\n",
        "\n",
        "with open('bg_data.txt', 'r') as infile:\n",
        "    input_rows = csv.DictReader(infile)\n",
        "    \n",
        "    for row in input_rows:\n",
        "        current_mol = []\n",
        "        current_mol.append(float(row['Cs']))\n",
        "        current_mol.append(float(row['FA']))\n",
        "        current_mol.append(float(row['Cl']))\n",
        "        current_mol.append(float(row['Br']))\n",
        "        current_mol.append(float(row['Bandgap']))\n",
        "        all_molecules.append(current_mol)\n",
        "\n",
        "random.shuffle(all_molecules)\n",
        "all_molecules=np.array(all_molecules)\n",
        "\n",
        "num_train = int(len(all_molecules) * 0.8)\n",
        "\n",
        "# each point in x_train has 4 values - 1 for each feature\n",
        "x_train = [x[:4] for x in all_molecules[:num_train]]\n",
        "# each point in y_train has 1 value - the bandgap of the molecule\n",
        "y_train = [x[4] for x in all_molecules[:num_train]]\n",
        "\n",
        "x_test = [x[:4] for x in all_molecules[num_train:]]\n",
        "y_test = [x[4] for x in all_molecules[num_train:]]\n",
        "\n",
        "\n"
      ]
    },
    {
      "cell_type": "code",
      "source": [
        "x_train=np.array(x_train)\n",
        "y_train = np.reshape(y_train, (len(y_train),1))\n",
        "x_train_new = np.hstack((np.ones((x_train.shape[0],1)), x_train))"
      ],
      "metadata": {
        "id": "TDmJH-Z_Rw79"
      },
      "id": "TDmJH-Z_Rw79",
      "execution_count": null,
      "outputs": []
    },
    {
      "cell_type": "markdown",
      "id": "square-direction",
      "metadata": {
        "id": "square-direction"
      },
      "source": [
        "### 2.1 Implement a Linear Regression model that minimizes the MSE **without using any libraries**. You may use NumPy to vectorize your code, but *do not use numpy.polyfit* or anything similar.\n",
        "\n",
        "2.1.1 Explain how you plan to implement Linear Regression in 5-10 lines."
      ]
    },
    {
      "cell_type": "markdown",
      "source": [
        "The equation for linear regression having four independent variables is:\n",
        "\n",
        "y = A + B1.x1 + B2.x2 + B3.x3 + B4.x4 \n",
        "\n",
        "Using gradient descent method, and x_train and y_train as our train dataset, we calculate the weight of the parameters B1, B2, B3, & B4.\n",
        "\n",
        "While testing, we'll calculate the values of y using the values of x_test, and compare it with the values of y_test."
      ],
      "metadata": {
        "id": "WNSKQRHdykD5"
      },
      "id": "WNSKQRHdykD5"
    },
    {
      "cell_type": "markdown",
      "id": "addressed-winter",
      "metadata": {
        "id": "addressed-winter"
      },
      "source": [
        "2.1.2 Implement Linear Regression using `x_train` and `y_train` as the train dataset.\n",
        "\n",
        "2.1.2.1 Choose the best learning rate and print the learning rate for which you achieved the best MSE."
      ]
    },
    {
      "cell_type": "code",
      "source": [
        "def h(x,theta):\n",
        "\treturn np.matmul(x, theta)\n",
        "\n",
        "def cost_function(x, y, theta):\n",
        "\treturn ((h(x, theta)-y).T@(h(x, theta)-y))/(2*y.shape[0])\n",
        "\n",
        "def gradient_descent(x, y, theta, learning_rate=0.1, num_epochs=10):\n",
        "\tm = x.shape[0]\n",
        "\tJ_all = []\n",
        "\t\n",
        "\tfor _ in range(num_epochs):\n",
        "\t\th_x = h(x, theta)\n",
        "\t\tcost_ = (1/m)*(x.T@(h_x - y))\n",
        "\t\ttheta = theta - (learning_rate)*cost_\n",
        "\t\tJ_all.append(cost_function(x, y, theta))\n",
        "\n",
        "\treturn theta, J_all \n",
        "\n",
        "\n",
        "theta = np.zeros((x_train_new.shape[1], 1))\n",
        "learning_rate = 1\n",
        "num_epochs = 50\n",
        "theta, J_all = gradient_descent(x_train_new, y_train, theta, learning_rate, num_epochs)\n",
        "J = cost_function(x_train_new, y_train, theta)\n",
        "print(\"Cost: \", J)\n",
        "print(\"Parameters: \", theta)"
      ],
      "metadata": {
        "id": "l0b1-c7Lo3Ja",
        "colab": {
          "base_uri": "https://localhost:8080/"
        },
        "outputId": "a3e6753f-acc0-4776-bd66-94755124f36e"
      },
      "id": "l0b1-c7Lo3Ja",
      "execution_count": null,
      "outputs": [
        {
          "output_type": "stream",
          "name": "stdout",
          "text": [
            "Cost:  [[0.00303505]]\n",
            "Parameters:  [[ 1.65204628]\n",
            " [-0.04671498]\n",
            " [-0.17112292]\n",
            " [ 1.44061615]\n",
            " [ 0.60430709]]\n"
          ]
        }
      ]
    },
    {
      "cell_type": "code",
      "source": [
        "x = np.array(range(1,num_epochs+1))\n",
        "\n",
        "J_al=np.array(J_all)\n",
        "y = J_al[:,0]\n",
        " \n",
        "plt.plot(x, y)\n",
        "plt.xlabel('Epoch number')\n",
        "plt.ylabel('Cost function')\n",
        "plt.title('Epoch vs Cost')\n",
        "plt.show()"
      ],
      "metadata": {
        "colab": {
          "base_uri": "https://localhost:8080/",
          "height": 295
        },
        "id": "-F2Y3uR8uHlz",
        "outputId": "e42c1e4a-7f46-4344-cb82-b4b4b7bc3230"
      },
      "id": "-F2Y3uR8uHlz",
      "execution_count": null,
      "outputs": [
        {
          "output_type": "display_data",
          "data": {
            "image/png": "[encoded data removed]",
            "text/plain": [
              "<Figure size 432x288 with 1 Axes>"
            ]
          },
          "metadata": {
            "needs_background": "light"
          }
        }
      ]
    },
    {
      "cell_type": "markdown",
      "id": "angry-tampa",
      "metadata": {
        "id": "angry-tampa"
      },
      "source": [
        "2.1.3 Make a [Parity Plot](https://en.wikipedia.org/wiki/Parity_plot) of your model's bandgap predictions on the test set with the actual values."
      ]
    },
    {
      "cell_type": "code",
      "execution_count": null,
      "id": "foster-center",
      "metadata": {
        "id": "foster-center",
        "outputId": "69ede786-fdc1-4c37-a56d-7ba51034c496",
        "colab": {
          "base_uri": "https://localhost:8080/",
          "height": 636
        }
      },
      "outputs": [
        {
          "output_type": "display_data",
          "data": {
            "image/png": "[encoded data removed]",
            "text/plain": [
              "<Figure size 720x1440 with 1 Axes>"
            ]
          },
          "metadata": {
            "needs_background": "light"
          }
        }
      ],
      "source": [
        "# Get the predictions of x_test into `y_pred`\n",
        "y_pred=[]\n",
        "def test(theta, x_test):\n",
        "    for x in x_test:\n",
        "        temp = theta[0] + theta[1]*x[0] + theta[2]*x[1] + theta[3]*x[2] + theta[4]*x[3]\n",
        "        y_pred.append(temp)\n",
        "\n",
        "x_test=np.array(x_test)\n",
        "test(theta, x_test)\n",
        "#\n",
        "# ...\n",
        "#\n",
        "\n",
        "import matplotlib.pyplot as plt\n",
        "fig, ax = plt.subplots(figsize=(10,20))\n",
        "\n",
        "ax.scatter(y_test, y_pred)\n",
        "\n",
        "lims = [\n",
        "    np.min([ax.get_xlim(), ax.get_ylim()]),\n",
        "    np.max([ax.get_xlim(), ax.get_ylim()]),\n",
        "]\n",
        "ax.plot(lims, lims, 'k-', alpha=0.75, zorder=0)\n",
        "ax.set_aspect('equal')\n",
        "ax.set_xlim(lims)\n",
        "ax.set_ylim(lims)\n",
        "\n",
        "ax.set_title('Parity Plot of Custom Linear Regression')\n",
        "ax.set_xlabel('Ground truth bandgap values')\n",
        "ax.set_ylabel('Predicted bandgap values')\n",
        "plt.show()"
      ]
    },
    {
      "cell_type": "markdown",
      "id": "dominant-chaos",
      "metadata": {
        "id": "dominant-chaos"
      },
      "source": [
        "### 2.2 Implement Ridge regression\n",
        "2.2.1 Explain Ridge regression briefly in 1-2 lines."
      ]
    },
    {
      "cell_type": "markdown",
      "id": "happy-cyprus",
      "metadata": {
        "id": "happy-cyprus"
      },
      "source": [
        "Ridge regression is an extension of linear regression where the loss function is modified to minimize the complexity of the model. This modification is done by adding a penalty parameter that is equivalent to the square of the magnitude of the coefficients. It performs L2 regularization.\n",
        "\n",
        "Ridge regression optimizes the following:\n",
        "\n",
        "Objective = RSS + α * (sum of square of coefficients)"
      ]
    },
    {
      "cell_type": "markdown",
      "id": "tight-forwarding",
      "metadata": {
        "id": "tight-forwarding"
      },
      "source": [
        "2.2.2 Implement Ridge regression and make a table of different RMSE scores you achieved with different values of alpha. What does the parameter `alpha` do? How does it affect the results here? Explain in 5-10 lines in total. (You can use scikit-learn from this cell onwards)"
      ]
    },
    {
      "cell_type": "code",
      "execution_count": null,
      "id": "violent-northern",
      "metadata": {
        "id": "violent-northern",
        "colab": {
          "base_uri": "https://localhost:8080/",
          "height": 282
        },
        "outputId": "6ca7dda0-d515-4503-9f8c-993d0bcab45a"
      },
      "outputs": [
        {
          "output_type": "stream",
          "name": "stdout",
          "text": [
            "0.2732229691976931\n"
          ]
        },
        {
          "output_type": "display_data",
          "data": {
            "image/png": "[encoded data removed]",
            "text/plain": [
              "<Figure size 432x288 with 1 Axes>"
            ]
          },
          "metadata": {
            "needs_background": "light"
          }
        }
      ],
      "source": [
        "# you should not have imported sklearn before this point\n",
        "import sklearn\n",
        "from sklearn.linear_model import Ridge\n",
        "from sklearn.model_selection import train_test_split\n",
        "from sklearn.metrics import mean_squared_error\n",
        "from math import sqrt\n",
        "\n",
        "rr = Ridge(alpha=0.01)\n",
        "rr.fit(x_train, y_train) \n",
        "\n",
        "pred_test_rr= rr.predict(x_test)\n",
        "print(np.sqrt(mean_squared_error(y_test,pred_test_rr,squared=False)))\n",
        "\n",
        "# implement Ridge regression and make a table where you explore the effect of different values of `alpha`\n",
        "alpha_val=[0.01,0.05,0.1,0.5,1,5]\n",
        "rmse_val=[]\n",
        "for i in alpha_val:\n",
        "    rr = Ridge(alpha=i)\n",
        "    rr.fit(x_train, y_train) \n",
        "    pred_test_rr= rr.predict(x_test)\n",
        "    rmse_val.append(np.sqrt(mean_squared_error(y_test,pred_test_rr,squared=False)))\n",
        "    \n",
        "plt.plot(alpha_val,rmse_val,marker='o', markerfacecolor='blue', markersize=6)\n",
        "plt.show()"
      ]
    },
    {
      "cell_type": "markdown",
      "source": [
        "Alpha is the penalty term. So by changing the values of alpha, we are basically controlling the penalty term. Higher the values of alpha, bigger is the penalty and therefore the magnitude of coefficients are reduced. For alpha=0, we'll get the same coefficients as linear regression. For alpha=infinity, the coefficients will be zero. "
      ],
      "metadata": {
        "id": "QTqmKQYx8lEg"
      },
      "id": "QTqmKQYx8lEg"
    },
    {
      "cell_type": "markdown",
      "id": "adolescent-temperature",
      "metadata": {
        "id": "adolescent-temperature"
      },
      "source": [
        "### 2.3 Implement Lasso regression\n",
        "2.3.1 Explain Lasso regression briefly in 1-2 lines."
      ]
    },
    {
      "cell_type": "markdown",
      "source": [
        "Lasso regression, or the Least Absolute Shrinkage and Selection Operator, is a modification of linear regression in which the loss function is modified to minimize the complexity of the model by limiting the sum of the absolute values of the model coefficients (also called the l1-norm).\n",
        "\n",
        "Lasso regression optimizes the following:\n",
        "\n",
        "Objective = RSS + α * (sum of absolute value of coefficients)"
      ],
      "metadata": {
        "id": "3RE23dHqIWBJ"
      },
      "id": "3RE23dHqIWBJ"
    },
    {
      "cell_type": "markdown",
      "id": "popular-wonder",
      "metadata": {
        "id": "popular-wonder"
      },
      "source": [
        "2.3.2 Implement Lasso regression and make a table of different RMSE scores you achieved with different values of alpha. What does the parameter `alpha` do? How does it affect the results here? Explain in 5-10 lines in total."
      ]
    },
    {
      "cell_type": "code",
      "execution_count": null,
      "id": "extra-brighton",
      "metadata": {
        "id": "extra-brighton"
      },
      "outputs": [],
      "source": [
        "# implement Lasso regression and make a table where you explore the effect of different values of `alpha`"
      ]
    },
    {
      "cell_type": "code",
      "execution_count": null,
      "id": "accompanied-worst",
      "metadata": {
        "id": "accompanied-worst",
        "colab": {
          "base_uri": "https://localhost:8080/",
          "height": 369
        },
        "outputId": "8f56af29-f79d-43e9-8679-1d7aa72ac63a"
      },
      "outputs": [
        {
          "output_type": "stream",
          "name": "stdout",
          "text": [
            "0.2953502679031329\n",
            "0.5017365334812042\n",
            "0.6227440830823618\n",
            "0.6313783559061928\n",
            "0.6313783559061928\n",
            "0.6313783559061928\n"
          ]
        },
        {
          "output_type": "display_data",
          "data": {
            "image/png": "[encoded data removed]",
            "text/plain": [
              "<Figure size 432x288 with 1 Axes>"
            ]
          },
          "metadata": {
            "needs_background": "light"
          }
        }
      ],
      "source": [
        "from sklearn.linear_model import Lasso\n",
        "\n",
        "alpha_val=[0.01,0.05,0.1,0.5,1,5]\n",
        "rmse_val=[]\n",
        "for i in alpha_val:\n",
        "    model_lasso = Lasso(alpha=i)\n",
        "    model_lasso.fit(x_train, y_train) \n",
        "    pred_test_lasso= model_lasso.predict(x_test)\n",
        "    rmse_val.append(np.sqrt(mean_squared_error(y_test,pred_test_lasso,squared=False)))\n",
        "    \n",
        "plt.plot(alpha_val,rmse_val,marker='o', markerfacecolor='blue', markersize=6)\n",
        "plt.show()\n"
      ]
    },
    {
      "cell_type": "markdown",
      "source": [
        "Alpha affect the results in a similar fashion to ridge regression. The slight difference lies in their objective formulas. In ridge regression, 'sum of square of coefficients' is impacted whereas in lasso regression 'sum of absolute value of coefficients' is impacted. "
      ],
      "metadata": {
        "id": "Q7j4NtCKNjio"
      },
      "id": "Q7j4NtCKNjio"
    }
  ],
  "metadata": {
    "kernelspec": {
      "display_name": "Python 3",
      "language": "python",
      "name": "python3"
    },
    "language_info": {
      "codemirror_mode": {
        "name": "ipython",
        "version": 3
      },
      "file_extension": ".py",
      "mimetype": "text/x-python",
      "name": "python",
      "nbconvert_exporter": "python",
      "pygments_lexer": "ipython3",
      "version": "3.8.5"
    },
    "colab": {
      "name": "rollnumber_Assignment2_Q2.ipynb",
      "provenance": []
    }
  },
  "nbformat": 4,
  "nbformat_minor": 5
}